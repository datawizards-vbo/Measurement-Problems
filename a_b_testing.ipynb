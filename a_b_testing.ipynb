{
 "cells": [
  {
   "cell_type": "code",
   "execution_count": 1,
   "id": "61e7747d",
   "metadata": {
    "_cell_guid": "b1076dfc-b9ad-4769-8c92-a6c4dae69d19",
    "_uuid": "8f2839f25d086af736a60e9eeb907d3b93b6e0e5",
    "execution": {
     "iopub.execute_input": "2022-04-06T14:20:35.465695Z",
     "iopub.status.busy": "2022-04-06T14:20:35.463775Z",
     "iopub.status.idle": "2022-04-06T14:20:35.482788Z",
     "shell.execute_reply": "2022-04-06T14:20:35.483403Z",
     "shell.execute_reply.started": "2022-04-06T12:28:48.845118Z"
    },
    "papermill": {
     "duration": 0.080948,
     "end_time": "2022-04-06T14:20:35.483707",
     "exception": false,
     "start_time": "2022-04-06T14:20:35.402759",
     "status": "completed"
    },
    "tags": []
   },
   "outputs": [
    {
     "name": "stdout",
     "output_type": "stream",
     "text": [
      "/kaggle/input/ab-testing/ab_testing.xlsx\n"
     ]
    }
   ],
   "source": [
    "\n",
    "import numpy as np # linear algebra\n",
    "import pandas as pd # data processing, CSV file I/O (e.g. pd.read_csv)\n",
    "\n",
    "\n",
    "\n",
    "import os\n",
    "for dirname, _, filenames in os.walk('/kaggle/input'):\n",
    "    for filename in filenames:\n",
    "        print(os.path.join(dirname, filename))\n"
   ]
  },
  {
   "cell_type": "code",
   "execution_count": 2,
   "id": "eb9a59ad",
   "metadata": {
    "execution": {
     "iopub.execute_input": "2022-04-06T14:20:35.598107Z",
     "iopub.status.busy": "2022-04-06T14:20:35.597085Z",
     "iopub.status.idle": "2022-04-06T14:20:35.601433Z",
     "shell.execute_reply": "2022-04-06T14:20:35.601891Z",
     "shell.execute_reply.started": "2022-04-06T12:28:48.863507Z"
    },
    "papermill": {
     "duration": 0.061244,
     "end_time": "2022-04-06T14:20:35.602086",
     "exception": false,
     "start_time": "2022-04-06T14:20:35.540842",
     "status": "completed"
    },
    "tags": []
   },
   "outputs": [],
   "source": [
    "pd.set_option('display.max_columns', None)\n",
    "pd.set_option('display.max_rows', 10)\n",
    "pd.set_option('display.float_format', lambda x: '%.5f' % x)"
   ]
  },
  {
   "cell_type": "code",
   "execution_count": 3,
   "id": "24e84fae",
   "metadata": {
    "execution": {
     "iopub.execute_input": "2022-04-06T14:20:35.715890Z",
     "iopub.status.busy": "2022-04-06T14:20:35.715102Z",
     "iopub.status.idle": "2022-04-06T14:20:36.741176Z",
     "shell.execute_reply": "2022-04-06T14:20:36.740405Z",
     "shell.execute_reply.started": "2022-04-06T12:28:48.887137Z"
    },
    "papermill": {
     "duration": 1.085918,
     "end_time": "2022-04-06T14:20:36.741339",
     "exception": false,
     "start_time": "2022-04-06T14:20:35.655421",
     "status": "completed"
    },
    "tags": []
   },
   "outputs": [],
   "source": [
    "from scipy.stats import ttest_1samp, shapiro, levene, ttest_ind, mannwhitneyu, pearsonr, spearmanr, kendalltau, \\\n",
    "    f_oneway, kruskal\n",
    "from statsmodels.stats.proportion import proportions_ztest"
   ]
  },
  {
   "cell_type": "code",
   "execution_count": 4,
   "id": "76e764ad",
   "metadata": {
    "execution": {
     "iopub.execute_input": "2022-04-06T14:20:36.856006Z",
     "iopub.status.busy": "2022-04-06T14:20:36.855324Z",
     "iopub.status.idle": "2022-04-06T14:20:48.226850Z",
     "shell.execute_reply": "2022-04-06T14:20:48.227365Z",
     "shell.execute_reply.started": "2022-04-06T12:42:36.764793Z"
    },
    "papermill": {
     "duration": 11.431056,
     "end_time": "2022-04-06T14:20:48.227549",
     "exception": false,
     "start_time": "2022-04-06T14:20:36.796493",
     "status": "completed"
    },
    "tags": []
   },
   "outputs": [
    {
     "name": "stdout",
     "output_type": "stream",
     "text": [
      "Collecting openpyxl\r\n",
      "  Downloading openpyxl-3.0.9-py2.py3-none-any.whl (242 kB)\r\n",
      "     |████████████████████████████████| 242 kB 4.8 MB/s            \r\n",
      "\u001b[?25hCollecting et-xmlfile\r\n",
      "  Downloading et_xmlfile-1.1.0-py3-none-any.whl (4.7 kB)\r\n",
      "Installing collected packages: et-xmlfile, openpyxl\r\n",
      "Successfully installed et-xmlfile-1.1.0 openpyxl-3.0.9\r\n",
      "\u001b[33mWARNING: Running pip as the 'root' user can result in broken permissions and conflicting behaviour with the system package manager. It is recommended to use a virtual environment instead: https://pip.pypa.io/warnings/venv\u001b[0m\r\n",
      "Note: you may need to restart the kernel to use updated packages.\n"
     ]
    }
   ],
   "source": [
    "pip install openpyxl"
   ]
  },
  {
   "cell_type": "markdown",
   "id": "87fcf881",
   "metadata": {
    "papermill": {
     "duration": 0.057468,
     "end_time": "2022-04-06T14:20:48.342278",
     "exception": false,
     "start_time": "2022-04-06T14:20:48.284810",
     "status": "completed"
    },
    "tags": []
   },
   "source": [
    "# BUSINESS PROBLEM"
   ]
  },
  {
   "cell_type": "markdown",
   "id": "5324df6b",
   "metadata": {
    "papermill": {
     "duration": 0.056378,
     "end_time": "2022-04-06T14:20:48.454305",
     "exception": false,
     "start_time": "2022-04-06T14:20:48.397927",
     "status": "completed"
    },
    "tags": []
   },
   "source": [
    "Facebook recently introduced a new bidding type, 'average bidding', as an alternative to the existing bidding type called 'maximum bidding'.\n",
    "\n",
    "One of our customers, bombabomba.com, decided to test this new feature and would like to do an A/B test to see if average bidding converts more than maximum bidding.\n",
    "\n",
    "Problem:\n",
    "\n",
    "The A/B test has been going on for 1 month and bombabomba.com is now waiting for you to analyze the results of this A/B test.\n",
    "\n",
    "Hint: The success criteria of the Bombomba.com is Purchase. \n"
   ]
  },
  {
   "cell_type": "markdown",
   "id": "d8ec5aef",
   "metadata": {
    "papermill": {
     "duration": 0.055603,
     "end_time": "2022-04-06T14:20:48.566119",
     "exception": false,
     "start_time": "2022-04-06T14:20:48.510516",
     "status": "completed"
    },
    "tags": []
   },
   "source": [
    "> # About average cost bidding\n"
   ]
  },
  {
   "cell_type": "markdown",
   "id": "77e1d182",
   "metadata": {
    "papermill": {
     "duration": 0.055475,
     "end_time": "2022-04-06T14:20:48.677280",
     "exception": false,
     "start_time": "2022-04-06T14:20:48.621805",
     "status": "completed"
    },
    "tags": []
   },
   "source": [
    "Average-cost bidding allows you to tell us what you want your average cost per result to be, rather than the maximum amount you're willing to pay for any given result.\n",
    "\n",
    "If you use this type of bidding, we'll try to get you as many results as possible while keeping your average cost per result less than or equal to your desired average. The cost for a given individual result might be more or less than that average, but over time, as you accumulate more results, the average cost for each should even out to that number or less.\n",
    "\n",
    "For example, if you set your average cost per App Install at GBP 10, we'll show your ad to people who are likely to install your app. Sometimes we may need to spend GBP 8 to find someone to install your app, other times we may need to spend GBP 12, but over time we'll aim to have your charges average out to GBP 10 per App Install, starting from the time you set your bid to GBP 10.\n",
    "\n"
   ]
  },
  {
   "cell_type": "markdown",
   "id": "c240d4de",
   "metadata": {
    "papermill": {
     "duration": 0.055589,
     "end_time": "2022-04-06T14:20:48.790371",
     "exception": false,
     "start_time": "2022-04-06T14:20:48.734782",
     "status": "completed"
    },
    "tags": []
   },
   "source": [
    "> # About maximum cost bidding\n"
   ]
  },
  {
   "cell_type": "markdown",
   "id": "63f90b16",
   "metadata": {
    "papermill": {
     "duration": 0.057309,
     "end_time": "2022-04-06T14:20:48.903865",
     "exception": false,
     "start_time": "2022-04-06T14:20:48.846556",
     "status": "completed"
    },
    "tags": []
   },
   "source": [
    "Maximum cost bidding allows you to tell us the maximum amount you're willing to pay for a result.\n",
    "\n",
    "If you use this type of bidding, we'll try to get you as many results as possible at a price equal to or less than your bid. However, in limited cases, costs may end up greater than your bid. For example, this might happen if we overestimate how many people will convert through your ad early in your campaign before we've got data on its performance and try to make up for that, or with ad sets that have smaller budgets and infrequent conversions or App Installs."
   ]
  },
  {
   "cell_type": "markdown",
   "id": "4e47698a",
   "metadata": {
    "papermill": {
     "duration": 0.05615,
     "end_time": "2022-04-06T14:20:49.016486",
     "exception": false,
     "start_time": "2022-04-06T14:20:48.960336",
     "status": "completed"
    },
    "tags": []
   },
   "source": [
    "The above explanations are taken from the link below.\n",
    "\n",
    "Referance: https://en-gb.facebook.com/business/help/447834205249495/248901692118939\n"
   ]
  },
  {
   "cell_type": "markdown",
   "id": "1d4f4c4c",
   "metadata": {
    "papermill": {
     "duration": 0.055337,
     "end_time": "2022-04-06T14:20:49.127632",
     "exception": false,
     "start_time": "2022-04-06T14:20:49.072295",
     "status": "completed"
    },
    "tags": []
   },
   "source": [
    "# Variables"
   ]
  },
  {
   "cell_type": "markdown",
   "id": "443a2cd9",
   "metadata": {
    "execution": {
     "iopub.execute_input": "2022-04-06T12:42:51.219090Z",
     "iopub.status.busy": "2022-04-06T12:42:51.218763Z",
     "iopub.status.idle": "2022-04-06T12:42:51.226788Z",
     "shell.execute_reply": "2022-04-06T12:42:51.225231Z",
     "shell.execute_reply.started": "2022-04-06T12:42:51.219053Z"
    },
    "papermill": {
     "duration": 0.055266,
     "end_time": "2022-04-06T14:20:49.238571",
     "exception": false,
     "start_time": "2022-04-06T14:20:49.183305",
     "status": "completed"
    },
    "tags": []
   },
   "source": [
    "Impression : Ad views count\n",
    "    \n",
    "Click: Number of clicks on the displayed ad\n",
    "    \n",
    "Purchase: Number of products purchased after ads clicked\n",
    "    \n",
    "Earning: Earnings after purchased products "
   ]
  },
  {
   "cell_type": "code",
   "execution_count": 5,
   "id": "f68bd7b4",
   "metadata": {
    "execution": {
     "iopub.execute_input": "2022-04-06T14:20:49.357170Z",
     "iopub.status.busy": "2022-04-06T14:20:49.356475Z",
     "iopub.status.idle": "2022-04-06T14:20:49.630765Z",
     "shell.execute_reply": "2022-04-06T14:20:49.631346Z",
     "shell.execute_reply.started": "2022-04-06T12:43:06.169625Z"
    },
    "papermill": {
     "duration": 0.337421,
     "end_time": "2022-04-06T14:20:49.631528",
     "exception": false,
     "start_time": "2022-04-06T14:20:49.294107",
     "status": "completed"
    },
    "tags": []
   },
   "outputs": [
    {
     "data": {
      "text/html": [
       "<div>\n",
       "<style scoped>\n",
       "    .dataframe tbody tr th:only-of-type {\n",
       "        vertical-align: middle;\n",
       "    }\n",
       "\n",
       "    .dataframe tbody tr th {\n",
       "        vertical-align: top;\n",
       "    }\n",
       "\n",
       "    .dataframe thead th {\n",
       "        text-align: right;\n",
       "    }\n",
       "</style>\n",
       "<table border=\"1\" class=\"dataframe\">\n",
       "  <thead>\n",
       "    <tr style=\"text-align: right;\">\n",
       "      <th></th>\n",
       "      <th>Impression</th>\n",
       "      <th>Click</th>\n",
       "      <th>Purchase</th>\n",
       "      <th>Earning</th>\n",
       "    </tr>\n",
       "  </thead>\n",
       "  <tbody>\n",
       "    <tr>\n",
       "      <th>0</th>\n",
       "      <td>120103.50380</td>\n",
       "      <td>3216.54796</td>\n",
       "      <td>702.16035</td>\n",
       "      <td>1939.61124</td>\n",
       "    </tr>\n",
       "    <tr>\n",
       "      <th>1</th>\n",
       "      <td>134775.94336</td>\n",
       "      <td>3635.08242</td>\n",
       "      <td>834.05429</td>\n",
       "      <td>2929.40582</td>\n",
       "    </tr>\n",
       "    <tr>\n",
       "      <th>2</th>\n",
       "      <td>107806.62079</td>\n",
       "      <td>3057.14356</td>\n",
       "      <td>422.93426</td>\n",
       "      <td>2526.24488</td>\n",
       "    </tr>\n",
       "    <tr>\n",
       "      <th>3</th>\n",
       "      <td>116445.27553</td>\n",
       "      <td>4650.47391</td>\n",
       "      <td>429.03353</td>\n",
       "      <td>2281.42857</td>\n",
       "    </tr>\n",
       "    <tr>\n",
       "      <th>4</th>\n",
       "      <td>145082.51684</td>\n",
       "      <td>5201.38772</td>\n",
       "      <td>749.86044</td>\n",
       "      <td>2781.69752</td>\n",
       "    </tr>\n",
       "  </tbody>\n",
       "</table>\n",
       "</div>"
      ],
      "text/plain": [
       "    Impression      Click  Purchase    Earning\n",
       "0 120103.50380 3216.54796 702.16035 1939.61124\n",
       "1 134775.94336 3635.08242 834.05429 2929.40582\n",
       "2 107806.62079 3057.14356 422.93426 2526.24488\n",
       "3 116445.27553 4650.47391 429.03353 2281.42857\n",
       "4 145082.51684 5201.38772 749.86044 2781.69752"
      ]
     },
     "execution_count": 5,
     "metadata": {},
     "output_type": "execute_result"
    }
   ],
   "source": [
    "#A treatment (or experimental) group - They'll be shown the new design (average cost bidding)\n",
    "\n",
    "df_test_group = pd.read_excel(\"/kaggle/input/ab-testing/ab_testing.xlsx\", sheet_name=\"Test Group\")\n",
    "df_test_group.head()"
   ]
  },
  {
   "cell_type": "code",
   "execution_count": 6,
   "id": "d78c4fd0",
   "metadata": {
    "execution": {
     "iopub.execute_input": "2022-04-06T14:20:49.753011Z",
     "iopub.status.busy": "2022-04-06T14:20:49.752064Z",
     "iopub.status.idle": "2022-04-06T14:20:49.787797Z",
     "shell.execute_reply": "2022-04-06T14:20:49.788449Z",
     "shell.execute_reply.started": "2022-04-06T12:43:53.805934Z"
    },
    "papermill": {
     "duration": 0.100349,
     "end_time": "2022-04-06T14:20:49.788631",
     "exception": false,
     "start_time": "2022-04-06T14:20:49.688282",
     "status": "completed"
    },
    "tags": []
   },
   "outputs": [
    {
     "data": {
      "text/html": [
       "<div>\n",
       "<style scoped>\n",
       "    .dataframe tbody tr th:only-of-type {\n",
       "        vertical-align: middle;\n",
       "    }\n",
       "\n",
       "    .dataframe tbody tr th {\n",
       "        vertical-align: top;\n",
       "    }\n",
       "\n",
       "    .dataframe thead th {\n",
       "        text-align: right;\n",
       "    }\n",
       "</style>\n",
       "<table border=\"1\" class=\"dataframe\">\n",
       "  <thead>\n",
       "    <tr style=\"text-align: right;\">\n",
       "      <th></th>\n",
       "      <th>Impression</th>\n",
       "      <th>Click</th>\n",
       "      <th>Purchase</th>\n",
       "      <th>Earning</th>\n",
       "    </tr>\n",
       "  </thead>\n",
       "  <tbody>\n",
       "    <tr>\n",
       "      <th>0</th>\n",
       "      <td>82529.45927</td>\n",
       "      <td>6090.07732</td>\n",
       "      <td>665.21125</td>\n",
       "      <td>2311.27714</td>\n",
       "    </tr>\n",
       "    <tr>\n",
       "      <th>1</th>\n",
       "      <td>98050.45193</td>\n",
       "      <td>3382.86179</td>\n",
       "      <td>315.08489</td>\n",
       "      <td>1742.80686</td>\n",
       "    </tr>\n",
       "    <tr>\n",
       "      <th>2</th>\n",
       "      <td>82696.02355</td>\n",
       "      <td>4167.96575</td>\n",
       "      <td>458.08374</td>\n",
       "      <td>1797.82745</td>\n",
       "    </tr>\n",
       "    <tr>\n",
       "      <th>3</th>\n",
       "      <td>109914.40040</td>\n",
       "      <td>4910.88224</td>\n",
       "      <td>487.09077</td>\n",
       "      <td>1696.22918</td>\n",
       "    </tr>\n",
       "    <tr>\n",
       "      <th>4</th>\n",
       "      <td>108457.76263</td>\n",
       "      <td>5987.65581</td>\n",
       "      <td>441.03405</td>\n",
       "      <td>1543.72018</td>\n",
       "    </tr>\n",
       "  </tbody>\n",
       "</table>\n",
       "</div>"
      ],
      "text/plain": [
       "    Impression      Click  Purchase    Earning\n",
       "0  82529.45927 6090.07732 665.21125 2311.27714\n",
       "1  98050.45193 3382.86179 315.08489 1742.80686\n",
       "2  82696.02355 4167.96575 458.08374 1797.82745\n",
       "3 109914.40040 4910.88224 487.09077 1696.22918\n",
       "4 108457.76263 5987.65581 441.03405 1543.72018"
      ]
     },
     "execution_count": 6,
     "metadata": {},
     "output_type": "execute_result"
    }
   ],
   "source": [
    "#A control group - They'll be shown the old design (maximum cost bidding)\n",
    "\n",
    "df_control_group = pd.read_excel(\"/kaggle/input/ab-testing/ab_testing.xlsx\", sheet_name=\"Control Group\")\n",
    "df_control_group.head()"
   ]
  },
  {
   "cell_type": "code",
   "execution_count": 7,
   "id": "a0a1846e",
   "metadata": {
    "execution": {
     "iopub.execute_input": "2022-04-06T14:20:49.910925Z",
     "iopub.status.busy": "2022-04-06T14:20:49.905312Z",
     "iopub.status.idle": "2022-04-06T14:20:49.919628Z",
     "shell.execute_reply": "2022-04-06T14:20:49.920142Z",
     "shell.execute_reply.started": "2022-04-06T12:44:13.636920Z"
    },
    "papermill": {
     "duration": 0.074743,
     "end_time": "2022-04-06T14:20:49.920310",
     "exception": false,
     "start_time": "2022-04-06T14:20:49.845567",
     "status": "completed"
    },
    "tags": []
   },
   "outputs": [
    {
     "data": {
      "text/html": [
       "<div>\n",
       "<style scoped>\n",
       "    .dataframe tbody tr th:only-of-type {\n",
       "        vertical-align: middle;\n",
       "    }\n",
       "\n",
       "    .dataframe tbody tr th {\n",
       "        vertical-align: top;\n",
       "    }\n",
       "\n",
       "    .dataframe thead th {\n",
       "        text-align: right;\n",
       "    }\n",
       "</style>\n",
       "<table border=\"1\" class=\"dataframe\">\n",
       "  <thead>\n",
       "    <tr style=\"text-align: right;\">\n",
       "      <th></th>\n",
       "      <th>Impression</th>\n",
       "      <th>Click</th>\n",
       "      <th>Purchase</th>\n",
       "      <th>Earning</th>\n",
       "      <th>Group</th>\n",
       "    </tr>\n",
       "  </thead>\n",
       "  <tbody>\n",
       "    <tr>\n",
       "      <th>0</th>\n",
       "      <td>82529.45927</td>\n",
       "      <td>6090.07732</td>\n",
       "      <td>665.21125</td>\n",
       "      <td>2311.27714</td>\n",
       "      <td>Control</td>\n",
       "    </tr>\n",
       "    <tr>\n",
       "      <th>1</th>\n",
       "      <td>98050.45193</td>\n",
       "      <td>3382.86179</td>\n",
       "      <td>315.08489</td>\n",
       "      <td>1742.80686</td>\n",
       "      <td>Control</td>\n",
       "    </tr>\n",
       "    <tr>\n",
       "      <th>2</th>\n",
       "      <td>82696.02355</td>\n",
       "      <td>4167.96575</td>\n",
       "      <td>458.08374</td>\n",
       "      <td>1797.82745</td>\n",
       "      <td>Control</td>\n",
       "    </tr>\n",
       "    <tr>\n",
       "      <th>3</th>\n",
       "      <td>109914.40040</td>\n",
       "      <td>4910.88224</td>\n",
       "      <td>487.09077</td>\n",
       "      <td>1696.22918</td>\n",
       "      <td>Control</td>\n",
       "    </tr>\n",
       "    <tr>\n",
       "      <th>4</th>\n",
       "      <td>108457.76263</td>\n",
       "      <td>5987.65581</td>\n",
       "      <td>441.03405</td>\n",
       "      <td>1543.72018</td>\n",
       "      <td>Control</td>\n",
       "    </tr>\n",
       "  </tbody>\n",
       "</table>\n",
       "</div>"
      ],
      "text/plain": [
       "    Impression      Click  Purchase    Earning    Group\n",
       "0  82529.45927 6090.07732 665.21125 2311.27714  Control\n",
       "1  98050.45193 3382.86179 315.08489 1742.80686  Control\n",
       "2  82696.02355 4167.96575 458.08374 1797.82745  Control\n",
       "3 109914.40040 4910.88224 487.09077 1696.22918  Control\n",
       "4 108457.76263 5987.65581 441.03405 1543.72018  Control"
      ]
     },
     "execution_count": 7,
     "metadata": {},
     "output_type": "execute_result"
    }
   ],
   "source": [
    "#I added a new column called \"Group\" to df_control_group. Observation value of this column is \"Control\"\n",
    "\n",
    "df_control_group[\"Group\"] = \"Control\"\n",
    "df_control_group.head()"
   ]
  },
  {
   "cell_type": "code",
   "execution_count": 8,
   "id": "b3079040",
   "metadata": {
    "execution": {
     "iopub.execute_input": "2022-04-06T14:20:50.043635Z",
     "iopub.status.busy": "2022-04-06T14:20:50.042866Z",
     "iopub.status.idle": "2022-04-06T14:20:50.050677Z",
     "shell.execute_reply": "2022-04-06T14:20:50.051311Z",
     "shell.execute_reply.started": "2022-04-06T12:44:24.069198Z"
    },
    "papermill": {
     "duration": 0.073135,
     "end_time": "2022-04-06T14:20:50.051490",
     "exception": false,
     "start_time": "2022-04-06T14:20:49.978355",
     "status": "completed"
    },
    "tags": []
   },
   "outputs": [
    {
     "data": {
      "text/html": [
       "<div>\n",
       "<style scoped>\n",
       "    .dataframe tbody tr th:only-of-type {\n",
       "        vertical-align: middle;\n",
       "    }\n",
       "\n",
       "    .dataframe tbody tr th {\n",
       "        vertical-align: top;\n",
       "    }\n",
       "\n",
       "    .dataframe thead th {\n",
       "        text-align: right;\n",
       "    }\n",
       "</style>\n",
       "<table border=\"1\" class=\"dataframe\">\n",
       "  <thead>\n",
       "    <tr style=\"text-align: right;\">\n",
       "      <th></th>\n",
       "      <th>Impression</th>\n",
       "      <th>Click</th>\n",
       "      <th>Purchase</th>\n",
       "      <th>Earning</th>\n",
       "      <th>Group</th>\n",
       "    </tr>\n",
       "  </thead>\n",
       "  <tbody>\n",
       "    <tr>\n",
       "      <th>0</th>\n",
       "      <td>120103.50380</td>\n",
       "      <td>3216.54796</td>\n",
       "      <td>702.16035</td>\n",
       "      <td>1939.61124</td>\n",
       "      <td>Test</td>\n",
       "    </tr>\n",
       "    <tr>\n",
       "      <th>1</th>\n",
       "      <td>134775.94336</td>\n",
       "      <td>3635.08242</td>\n",
       "      <td>834.05429</td>\n",
       "      <td>2929.40582</td>\n",
       "      <td>Test</td>\n",
       "    </tr>\n",
       "    <tr>\n",
       "      <th>2</th>\n",
       "      <td>107806.62079</td>\n",
       "      <td>3057.14356</td>\n",
       "      <td>422.93426</td>\n",
       "      <td>2526.24488</td>\n",
       "      <td>Test</td>\n",
       "    </tr>\n",
       "    <tr>\n",
       "      <th>3</th>\n",
       "      <td>116445.27553</td>\n",
       "      <td>4650.47391</td>\n",
       "      <td>429.03353</td>\n",
       "      <td>2281.42857</td>\n",
       "      <td>Test</td>\n",
       "    </tr>\n",
       "    <tr>\n",
       "      <th>4</th>\n",
       "      <td>145082.51684</td>\n",
       "      <td>5201.38772</td>\n",
       "      <td>749.86044</td>\n",
       "      <td>2781.69752</td>\n",
       "      <td>Test</td>\n",
       "    </tr>\n",
       "  </tbody>\n",
       "</table>\n",
       "</div>"
      ],
      "text/plain": [
       "    Impression      Click  Purchase    Earning Group\n",
       "0 120103.50380 3216.54796 702.16035 1939.61124  Test\n",
       "1 134775.94336 3635.08242 834.05429 2929.40582  Test\n",
       "2 107806.62079 3057.14356 422.93426 2526.24488  Test\n",
       "3 116445.27553 4650.47391 429.03353 2281.42857  Test\n",
       "4 145082.51684 5201.38772 749.86044 2781.69752  Test"
      ]
     },
     "execution_count": 8,
     "metadata": {},
     "output_type": "execute_result"
    }
   ],
   "source": [
    "#I added a new column called \"Group\" to df_test_group. Observation value of this column is \"Test\"\n",
    "\n",
    "df_test_group[\"Group\"] = \"Test\"\n",
    "df_test_group.head()"
   ]
  },
  {
   "cell_type": "code",
   "execution_count": 9,
   "id": "ce073195",
   "metadata": {
    "execution": {
     "iopub.execute_input": "2022-04-06T14:20:50.172247Z",
     "iopub.status.busy": "2022-04-06T14:20:50.171585Z",
     "iopub.status.idle": "2022-04-06T14:20:50.182714Z",
     "shell.execute_reply": "2022-04-06T14:20:50.183283Z",
     "shell.execute_reply.started": "2022-04-06T12:44:30.100241Z"
    },
    "papermill": {
     "duration": 0.073086,
     "end_time": "2022-04-06T14:20:50.183464",
     "exception": false,
     "start_time": "2022-04-06T14:20:50.110378",
     "status": "completed"
    },
    "tags": []
   },
   "outputs": [
    {
     "data": {
      "text/html": [
       "<div>\n",
       "<style scoped>\n",
       "    .dataframe tbody tr th:only-of-type {\n",
       "        vertical-align: middle;\n",
       "    }\n",
       "\n",
       "    .dataframe tbody tr th {\n",
       "        vertical-align: top;\n",
       "    }\n",
       "\n",
       "    .dataframe thead th {\n",
       "        text-align: right;\n",
       "    }\n",
       "</style>\n",
       "<table border=\"1\" class=\"dataframe\">\n",
       "  <thead>\n",
       "    <tr style=\"text-align: right;\">\n",
       "      <th></th>\n",
       "      <th>Impression</th>\n",
       "      <th>Click</th>\n",
       "      <th>Purchase</th>\n",
       "      <th>Earning</th>\n",
       "      <th>Group</th>\n",
       "    </tr>\n",
       "  </thead>\n",
       "  <tbody>\n",
       "    <tr>\n",
       "      <th>0</th>\n",
       "      <td>82529.45927</td>\n",
       "      <td>6090.07732</td>\n",
       "      <td>665.21125</td>\n",
       "      <td>2311.27714</td>\n",
       "      <td>Control</td>\n",
       "    </tr>\n",
       "    <tr>\n",
       "      <th>1</th>\n",
       "      <td>98050.45193</td>\n",
       "      <td>3382.86179</td>\n",
       "      <td>315.08489</td>\n",
       "      <td>1742.80686</td>\n",
       "      <td>Control</td>\n",
       "    </tr>\n",
       "    <tr>\n",
       "      <th>2</th>\n",
       "      <td>82696.02355</td>\n",
       "      <td>4167.96575</td>\n",
       "      <td>458.08374</td>\n",
       "      <td>1797.82745</td>\n",
       "      <td>Control</td>\n",
       "    </tr>\n",
       "    <tr>\n",
       "      <th>3</th>\n",
       "      <td>109914.40040</td>\n",
       "      <td>4910.88224</td>\n",
       "      <td>487.09077</td>\n",
       "      <td>1696.22918</td>\n",
       "      <td>Control</td>\n",
       "    </tr>\n",
       "    <tr>\n",
       "      <th>4</th>\n",
       "      <td>108457.76263</td>\n",
       "      <td>5987.65581</td>\n",
       "      <td>441.03405</td>\n",
       "      <td>1543.72018</td>\n",
       "      <td>Control</td>\n",
       "    </tr>\n",
       "  </tbody>\n",
       "</table>\n",
       "</div>"
      ],
      "text/plain": [
       "    Impression      Click  Purchase    Earning    Group\n",
       "0  82529.45927 6090.07732 665.21125 2311.27714  Control\n",
       "1  98050.45193 3382.86179 315.08489 1742.80686  Control\n",
       "2  82696.02355 4167.96575 458.08374 1797.82745  Control\n",
       "3 109914.40040 4910.88224 487.09077 1696.22918  Control\n",
       "4 108457.76263 5987.65581 441.03405 1543.72018  Control"
      ]
     },
     "execution_count": 9,
     "metadata": {},
     "output_type": "execute_result"
    }
   ],
   "source": [
    "#I merged two tables\n",
    "\n",
    "final_df = pd.concat([df_control_group, df_test_group], ignore_index=True)\n",
    "final_df.head()"
   ]
  },
  {
   "cell_type": "code",
   "execution_count": 10,
   "id": "719d7ed1",
   "metadata": {
    "execution": {
     "iopub.execute_input": "2022-04-06T14:20:50.304558Z",
     "iopub.status.busy": "2022-04-06T14:20:50.303801Z",
     "iopub.status.idle": "2022-04-06T14:20:50.308688Z",
     "shell.execute_reply": "2022-04-06T14:20:50.309294Z",
     "shell.execute_reply.started": "2022-04-06T12:44:34.912356Z"
    },
    "papermill": {
     "duration": 0.066756,
     "end_time": "2022-04-06T14:20:50.309463",
     "exception": false,
     "start_time": "2022-04-06T14:20:50.242707",
     "status": "completed"
    },
    "tags": []
   },
   "outputs": [
    {
     "data": {
      "text/plain": [
       "(80, 5)"
      ]
     },
     "execution_count": 10,
     "metadata": {},
     "output_type": "execute_result"
    }
   ],
   "source": [
    "final_df.shape"
   ]
  },
  {
   "cell_type": "code",
   "execution_count": 11,
   "id": "447bb499",
   "metadata": {
    "execution": {
     "iopub.execute_input": "2022-04-06T14:20:50.432260Z",
     "iopub.status.busy": "2022-04-06T14:20:50.431624Z",
     "iopub.status.idle": "2022-04-06T14:20:50.471969Z",
     "shell.execute_reply": "2022-04-06T14:20:50.472709Z",
     "shell.execute_reply.started": "2022-04-06T12:44:44.693510Z"
    },
    "papermill": {
     "duration": 0.102627,
     "end_time": "2022-04-06T14:20:50.472936",
     "exception": false,
     "start_time": "2022-04-06T14:20:50.370309",
     "status": "completed"
    },
    "tags": []
   },
   "outputs": [
    {
     "name": "stderr",
     "output_type": "stream",
     "text": [
      "/opt/conda/lib/python3.7/site-packages/ipykernel_launcher.py:3: FutureWarning: Indexing with multiple keys (implicitly converted to a tuple of keys) will be deprecated, use a list instead.\n",
      "  This is separate from the ipykernel package so we can avoid doing imports until\n"
     ]
    },
    {
     "data": {
      "text/html": [
       "<div>\n",
       "<style scoped>\n",
       "    .dataframe tbody tr th:only-of-type {\n",
       "        vertical-align: middle;\n",
       "    }\n",
       "\n",
       "    .dataframe tbody tr th {\n",
       "        vertical-align: top;\n",
       "    }\n",
       "\n",
       "    .dataframe thead th {\n",
       "        text-align: right;\n",
       "    }\n",
       "</style>\n",
       "<table border=\"1\" class=\"dataframe\">\n",
       "  <thead>\n",
       "    <tr style=\"text-align: right;\">\n",
       "      <th></th>\n",
       "      <th>Group</th>\n",
       "      <th>Control</th>\n",
       "      <th>Test</th>\n",
       "    </tr>\n",
       "  </thead>\n",
       "  <tbody>\n",
       "    <tr>\n",
       "      <th rowspan=\"5\" valign=\"top\">Purchase</th>\n",
       "      <th>mean</th>\n",
       "      <td>550.89406</td>\n",
       "      <td>582.10610</td>\n",
       "    </tr>\n",
       "    <tr>\n",
       "      <th>min</th>\n",
       "      <td>267.02894</td>\n",
       "      <td>311.62952</td>\n",
       "    </tr>\n",
       "    <tr>\n",
       "      <th>max</th>\n",
       "      <td>801.79502</td>\n",
       "      <td>889.91046</td>\n",
       "    </tr>\n",
       "    <tr>\n",
       "      <th>sum</th>\n",
       "      <td>22035.76235</td>\n",
       "      <td>23284.24387</td>\n",
       "    </tr>\n",
       "    <tr>\n",
       "      <th>median</th>\n",
       "      <td>531.20631</td>\n",
       "      <td>551.35573</td>\n",
       "    </tr>\n",
       "    <tr>\n",
       "      <th rowspan=\"5\" valign=\"top\">Click</th>\n",
       "      <th>mean</th>\n",
       "      <td>5100.65737</td>\n",
       "      <td>3967.54976</td>\n",
       "    </tr>\n",
       "    <tr>\n",
       "      <th>min</th>\n",
       "      <td>2189.75316</td>\n",
       "      <td>1836.62986</td>\n",
       "    </tr>\n",
       "    <tr>\n",
       "      <th>max</th>\n",
       "      <td>7959.12507</td>\n",
       "      <td>6019.69508</td>\n",
       "    </tr>\n",
       "    <tr>\n",
       "      <th>sum</th>\n",
       "      <td>204026.29490</td>\n",
       "      <td>158701.99043</td>\n",
       "    </tr>\n",
       "    <tr>\n",
       "      <th>median</th>\n",
       "      <td>5001.22060</td>\n",
       "      <td>3931.35980</td>\n",
       "    </tr>\n",
       "    <tr>\n",
       "      <th rowspan=\"5\" valign=\"top\">Impression</th>\n",
       "      <th>mean</th>\n",
       "      <td>101711.44907</td>\n",
       "      <td>120512.41176</td>\n",
       "    </tr>\n",
       "    <tr>\n",
       "      <th>min</th>\n",
       "      <td>45475.94296</td>\n",
       "      <td>79033.83492</td>\n",
       "    </tr>\n",
       "    <tr>\n",
       "      <th>max</th>\n",
       "      <td>147539.33633</td>\n",
       "      <td>158605.92048</td>\n",
       "    </tr>\n",
       "    <tr>\n",
       "      <th>sum</th>\n",
       "      <td>4068457.96271</td>\n",
       "      <td>4820496.47030</td>\n",
       "    </tr>\n",
       "    <tr>\n",
       "      <th>median</th>\n",
       "      <td>99790.70108</td>\n",
       "      <td>119291.30077</td>\n",
       "    </tr>\n",
       "    <tr>\n",
       "      <th rowspan=\"5\" valign=\"top\">Earning</th>\n",
       "      <th>mean</th>\n",
       "      <td>1908.56830</td>\n",
       "      <td>2514.89073</td>\n",
       "    </tr>\n",
       "    <tr>\n",
       "      <th>min</th>\n",
       "      <td>1253.98952</td>\n",
       "      <td>1939.61124</td>\n",
       "    </tr>\n",
       "    <tr>\n",
       "      <th>max</th>\n",
       "      <td>2497.29522</td>\n",
       "      <td>3171.48971</td>\n",
       "    </tr>\n",
       "    <tr>\n",
       "      <th>sum</th>\n",
       "      <td>76342.73199</td>\n",
       "      <td>100595.62931</td>\n",
       "    </tr>\n",
       "    <tr>\n",
       "      <th>median</th>\n",
       "      <td>1975.16052</td>\n",
       "      <td>2544.66611</td>\n",
       "    </tr>\n",
       "  </tbody>\n",
       "</table>\n",
       "</div>"
      ],
      "text/plain": [
       "Group                   Control          Test\n",
       "Purchase   mean       550.89406     582.10610\n",
       "           min        267.02894     311.62952\n",
       "           max        801.79502     889.91046\n",
       "           sum      22035.76235   23284.24387\n",
       "           median     531.20631     551.35573\n",
       "Click      mean      5100.65737    3967.54976\n",
       "           min       2189.75316    1836.62986\n",
       "           max       7959.12507    6019.69508\n",
       "           sum     204026.29490  158701.99043\n",
       "           median    5001.22060    3931.35980\n",
       "Impression mean    101711.44907  120512.41176\n",
       "           min      45475.94296   79033.83492\n",
       "           max     147539.33633  158605.92048\n",
       "           sum    4068457.96271 4820496.47030\n",
       "           median   99790.70108  119291.30077\n",
       "Earning    mean      1908.56830    2514.89073\n",
       "           min       1253.98952    1939.61124\n",
       "           max       2497.29522    3171.48971\n",
       "           sum      76342.73199  100595.62931\n",
       "           median    1975.16052    2544.66611"
      ]
     },
     "execution_count": 11,
     "metadata": {},
     "output_type": "execute_result"
    }
   ],
   "source": [
    "pd.set_option('display.max_rows', None)\n",
    "\n",
    "final_df.groupby(\"Group\")[\"Purchase\",\"Click\",\"Impression\",\"Earning\"].agg([\"mean\",\"min\",\"max\",\"sum\",\"median\"]).T"
   ]
  },
  {
   "cell_type": "markdown",
   "id": "a7f77a51",
   "metadata": {
    "papermill": {
     "duration": 0.059434,
     "end_time": "2022-04-06T14:20:50.594134",
     "exception": false,
     "start_time": "2022-04-06T14:20:50.534700",
     "status": "completed"
    },
    "tags": []
   },
   "source": [
    "When I look at the descriptive statistics, I see that the new design has a positive impact on impressions, earnings and purchases. But, I cannot say for sure without statistical tests whether the new design has a positive effect on these factors."
   ]
  },
  {
   "cell_type": "markdown",
   "id": "58ec58b2",
   "metadata": {
    "papermill": {
     "duration": 0.059661,
     "end_time": "2022-04-06T14:20:50.713493",
     "exception": false,
     "start_time": "2022-04-06T14:20:50.653832",
     "status": "completed"
    },
    "tags": []
   },
   "source": [
    "> # A/B TESTING"
   ]
  },
  {
   "cell_type": "markdown",
   "id": "35274bd1",
   "metadata": {
    "papermill": {
     "duration": 0.060884,
     "end_time": "2022-04-06T14:20:50.835335",
     "exception": false,
     "start_time": "2022-04-06T14:20:50.774451",
     "status": "completed"
    },
    "tags": []
   },
   "source": [
    "Before we create a hypothesis test, let's do the assumption checks."
   ]
  },
  {
   "cell_type": "markdown",
   "id": "ff2c384a",
   "metadata": {
    "execution": {
     "iopub.execute_input": "2022-04-06T13:02:33.161498Z",
     "iopub.status.busy": "2022-04-06T13:02:33.161092Z",
     "iopub.status.idle": "2022-04-06T13:02:33.169100Z",
     "shell.execute_reply": "2022-04-06T13:02:33.167861Z",
     "shell.execute_reply.started": "2022-04-06T13:02:33.161446Z"
    },
    "papermill": {
     "duration": 0.059893,
     "end_time": "2022-04-06T14:20:50.955948",
     "exception": false,
     "start_time": "2022-04-06T14:20:50.896055",
     "status": "completed"
    },
    "tags": []
   },
   "source": [
    "These assumptions are Normality and Variance Homogeneity:"
   ]
  },
  {
   "cell_type": "markdown",
   "id": "08b1fc67",
   "metadata": {
    "papermill": {
     "duration": 0.06024,
     "end_time": "2022-04-06T14:20:51.077808",
     "exception": false,
     "start_time": "2022-04-06T14:20:51.017568",
     "status": "completed"
    },
    "tags": []
   },
   "source": [
    "> # Assumption of the Normality "
   ]
  },
  {
   "cell_type": "markdown",
   "id": "d395eb0d",
   "metadata": {
    "execution": {
     "iopub.execute_input": "2022-04-06T13:23:13.874659Z",
     "iopub.status.busy": "2022-04-06T13:23:13.873303Z",
     "iopub.status.idle": "2022-04-06T13:23:13.883344Z",
     "shell.execute_reply": "2022-04-06T13:23:13.881828Z",
     "shell.execute_reply.started": "2022-04-06T13:23:13.874597Z"
    },
    "papermill": {
     "duration": 0.059784,
     "end_time": "2022-04-06T14:20:51.197224",
     "exception": false,
     "start_time": "2022-04-06T14:20:51.137440",
     "status": "completed"
    },
    "tags": []
   },
   "source": [
    "H0: Data follow a normal distribution.\n",
    "\n",
    "H1: Data do not follow a normal distribution\n",
    "    \n",
    "If the p-value is less than 0.05, H0 is rejected. This means that data do not follow a normal distribution. \n",
    "\n",
    "We use the Shapiro Test to check the Normality Assumption.  \n"
   ]
  },
  {
   "cell_type": "markdown",
   "id": "dfc7e047",
   "metadata": {
    "papermill": {
     "duration": 0.059355,
     "end_time": "2022-04-06T14:20:51.316140",
     "exception": false,
     "start_time": "2022-04-06T14:20:51.256785",
     "status": "completed"
    },
    "tags": []
   },
   "source": [
    "> Let's test whether the purchase variable follows a normality distribution on the control and test group "
   ]
  },
  {
   "cell_type": "code",
   "execution_count": 12,
   "id": "524cee63",
   "metadata": {
    "execution": {
     "iopub.execute_input": "2022-04-06T14:20:51.441872Z",
     "iopub.status.busy": "2022-04-06T14:20:51.441200Z",
     "iopub.status.idle": "2022-04-06T14:20:51.445843Z",
     "shell.execute_reply": "2022-04-06T14:20:51.446392Z",
     "shell.execute_reply.started": "2022-04-06T13:29:31.640039Z"
    },
    "papermill": {
     "duration": 0.070472,
     "end_time": "2022-04-06T14:20:51.446564",
     "exception": false,
     "start_time": "2022-04-06T14:20:51.376092",
     "status": "completed"
    },
    "tags": []
   },
   "outputs": [
    {
     "name": "stdout",
     "output_type": "stream",
     "text": [
      "Test Stat = 0.9773, p-value = 0.5891\n"
     ]
    }
   ],
   "source": [
    "test_stat, pvalue = shapiro(final_df.loc[final_df[\"Group\"] == \"Control\", \"Purchase\"])\n",
    "print('Test Stat = %.4f, p-value = %.4f' % (test_stat, pvalue))"
   ]
  },
  {
   "cell_type": "code",
   "execution_count": 13,
   "id": "02d4ed8a",
   "metadata": {
    "execution": {
     "iopub.execute_input": "2022-04-06T14:20:51.571553Z",
     "iopub.status.busy": "2022-04-06T14:20:51.570836Z",
     "iopub.status.idle": "2022-04-06T14:20:51.576893Z",
     "shell.execute_reply": "2022-04-06T14:20:51.577518Z",
     "shell.execute_reply.started": "2022-04-06T13:32:35.595316Z"
    },
    "papermill": {
     "duration": 0.070633,
     "end_time": "2022-04-06T14:20:51.577690",
     "exception": false,
     "start_time": "2022-04-06T14:20:51.507057",
     "status": "completed"
    },
    "tags": []
   },
   "outputs": [
    {
     "name": "stdout",
     "output_type": "stream",
     "text": [
      "Test Stat = 0.9589, p-value = 0.1541\n"
     ]
    }
   ],
   "source": [
    "test_stat, pvalue = shapiro(final_df.loc[final_df[\"Group\"] == \"Test\", \"Purchase\"])\n",
    "print('Test Stat = %.4f, p-value = %.4f' % (test_stat, pvalue))"
   ]
  },
  {
   "cell_type": "markdown",
   "id": "6b57541a",
   "metadata": {
    "papermill": {
     "duration": 0.062878,
     "end_time": "2022-04-06T14:20:51.703042",
     "exception": false,
     "start_time": "2022-04-06T14:20:51.640164",
     "status": "completed"
    },
    "tags": []
   },
   "source": [
    "H0 accepted. The purchase variable follows a normality distribution on the control and test group. "
   ]
  },
  {
   "cell_type": "markdown",
   "id": "3734ae13",
   "metadata": {
    "papermill": {
     "duration": 0.064557,
     "end_time": "2022-04-06T14:20:51.829265",
     "exception": false,
     "start_time": "2022-04-06T14:20:51.764708",
     "status": "completed"
    },
    "tags": []
   },
   "source": [
    "> # Assumption of The Variance Homogeneity"
   ]
  },
  {
   "cell_type": "markdown",
   "id": "6663ed8a",
   "metadata": {
    "execution": {
     "iopub.execute_input": "2022-04-06T13:38:39.192073Z",
     "iopub.status.busy": "2022-04-06T13:38:39.191764Z",
     "iopub.status.idle": "2022-04-06T13:38:39.199189Z",
     "shell.execute_reply": "2022-04-06T13:38:39.198155Z",
     "shell.execute_reply.started": "2022-04-06T13:38:39.192040Z"
    },
    "papermill": {
     "duration": 0.061843,
     "end_time": "2022-04-06T14:20:51.952398",
     "exception": false,
     "start_time": "2022-04-06T14:20:51.890555",
     "status": "completed"
    },
    "tags": []
   },
   "source": [
    "H0: Variances are homogeneous \n",
    "    \n",
    "H1: Variances are heterogenous\n",
    "    \n",
    "If the p-value is less than 0.05, H0 is rejected. This means that variances are heterogenous.\n",
    "\n",
    "We use the Levene Test to check the assumption of the homogeneity of the variances.  "
   ]
  },
  {
   "cell_type": "markdown",
   "id": "3f3f5291",
   "metadata": {
    "papermill": {
     "duration": 0.060383,
     "end_time": "2022-04-06T14:20:52.076070",
     "exception": false,
     "start_time": "2022-04-06T14:20:52.015687",
     "status": "completed"
    },
    "tags": []
   },
   "source": [
    "> Let's test the homogeneity of the variances for purchase variable on the control and test group "
   ]
  },
  {
   "cell_type": "code",
   "execution_count": 14,
   "id": "5092543f",
   "metadata": {
    "execution": {
     "iopub.execute_input": "2022-04-06T14:20:52.200726Z",
     "iopub.status.busy": "2022-04-06T14:20:52.199860Z",
     "iopub.status.idle": "2022-04-06T14:20:52.209366Z",
     "shell.execute_reply": "2022-04-06T14:20:52.209882Z",
     "shell.execute_reply.started": "2022-04-06T13:42:23.525655Z"
    },
    "papermill": {
     "duration": 0.073287,
     "end_time": "2022-04-06T14:20:52.210068",
     "exception": false,
     "start_time": "2022-04-06T14:20:52.136781",
     "status": "completed"
    },
    "tags": []
   },
   "outputs": [
    {
     "name": "stdout",
     "output_type": "stream",
     "text": [
      "Test Stat = 2.6393, p-value = 0.1083\n"
     ]
    }
   ],
   "source": [
    "test_stat, pvalue = levene(final_df.loc[final_df[\"Group\"] == \"Test\", \"Purchase\"],\n",
    "                           final_df.loc[final_df[\"Group\"] == \"Control\", \"Purchase\"])\n",
    "\n",
    "print('Test Stat = %.4f, p-value = %.4f' % (test_stat, pvalue))"
   ]
  },
  {
   "cell_type": "markdown",
   "id": "0be15b22",
   "metadata": {
    "papermill": {
     "duration": 0.061625,
     "end_time": "2022-04-06T14:20:52.333713",
     "exception": false,
     "start_time": "2022-04-06T14:20:52.272088",
     "status": "completed"
    },
    "tags": []
   },
   "source": [
    "H0 accepted. Variances are homogeneity for the purchase variable. "
   ]
  },
  {
   "cell_type": "markdown",
   "id": "ced7613a",
   "metadata": {
    "papermill": {
     "duration": 0.060833,
     "end_time": "2022-04-06T14:20:52.458974",
     "exception": false,
     "start_time": "2022-04-06T14:20:52.398141",
     "status": "completed"
    },
    "tags": []
   },
   "source": [
    "> # Independent T-Test for Two Samples"
   ]
  },
  {
   "cell_type": "markdown",
   "id": "0bc1bf2a",
   "metadata": {
    "papermill": {
     "duration": 0.060749,
     "end_time": "2022-04-06T14:20:52.580659",
     "exception": false,
     "start_time": "2022-04-06T14:20:52.519910",
     "status": "completed"
    },
    "tags": []
   },
   "source": [
    "The independent t-test, also called the two sample t-test, independent-samples t-test or student's t-test, is an inferential statistical test that determines whether there is a statistically significant difference between the means in two unrelated groups."
   ]
  },
  {
   "cell_type": "markdown",
   "id": "db3536bc",
   "metadata": {
    "papermill": {
     "duration": 0.060855,
     "end_time": "2022-04-06T14:20:52.702353",
     "exception": false,
     "start_time": "2022-04-06T14:20:52.641498",
     "status": "completed"
    },
    "tags": []
   },
   "source": [
    "> Assumptions: \n",
    "    \n",
    "1.) Data in each group must be obtained via a random sample from the population. \n",
    "\n",
    "2.) Data in each group are normally distributed. \n",
    "\n",
    "3.) Data values are continuous. \n",
    "\n",
    "4.) The variances for the two independent groups are equal."
   ]
  },
  {
   "cell_type": "markdown",
   "id": "c0326a81",
   "metadata": {
    "papermill": {
     "duration": 0.062768,
     "end_time": "2022-04-06T14:20:52.825962",
     "exception": false,
     "start_time": "2022-04-06T14:20:52.763194",
     "status": "completed"
    },
    "tags": []
   },
   "source": [
    "> Null and alternative hypotheses for the independent t-test:\n",
    "    \n",
    "H0: u1 = u2\n",
    "    \n",
    "There is not a statistically significant difference between the means in two unrelated groups.\n",
    "\n",
    "H1: u1 ≠ u2\n",
    "    \n",
    "There is a statistically significant difference between the means in two unrelated groups."
   ]
  },
  {
   "cell_type": "markdown",
   "id": "77fded51",
   "metadata": {
    "papermill": {
     "duration": 0.060931,
     "end_time": "2022-04-06T14:20:52.951582",
     "exception": false,
     "start_time": "2022-04-06T14:20:52.890651",
     "status": "completed"
    },
    "tags": []
   },
   "source": [
    "> We will use an independent t-test for two samples for the purchase variable. Because it follows a normal distribution and variances are homogeneity for this variable. "
   ]
  },
  {
   "cell_type": "code",
   "execution_count": 15,
   "id": "dab31fb7",
   "metadata": {
    "execution": {
     "iopub.execute_input": "2022-04-06T14:20:53.079714Z",
     "iopub.status.busy": "2022-04-06T14:20:53.078992Z",
     "iopub.status.idle": "2022-04-06T14:20:53.088679Z",
     "shell.execute_reply": "2022-04-06T14:20:53.087512Z",
     "shell.execute_reply.started": "2022-04-06T13:58:56.949021Z"
    },
    "papermill": {
     "duration": 0.074939,
     "end_time": "2022-04-06T14:20:53.088993",
     "exception": false,
     "start_time": "2022-04-06T14:20:53.014054",
     "status": "completed"
    },
    "tags": []
   },
   "outputs": [
    {
     "name": "stdout",
     "output_type": "stream",
     "text": [
      "Test Stat = 0.9416, p-value = 0.3493\n"
     ]
    }
   ],
   "source": [
    "test_stat, pvalue = ttest_ind(final_df.loc[final_df[\"Group\"] == \"Test\", \"Purchase\"],\n",
    "                              final_df.loc[final_df[\"Group\"] == \"Control\", \"Purchase\"],\n",
    "                              equal_var=True)\n",
    "\n",
    "print('Test Stat = %.4f, p-value = %.4f' % (test_stat, pvalue))"
   ]
  },
  {
   "cell_type": "markdown",
   "id": "33760885",
   "metadata": {
    "papermill": {
     "duration": 0.063229,
     "end_time": "2022-04-06T14:20:53.215898",
     "exception": false,
     "start_time": "2022-04-06T14:20:53.152669",
     "status": "completed"
    },
    "tags": []
   },
   "source": [
    "When we look at the p-value of the test result for purchase variable, we see that p-value greater than 0.05. This means that there is not a statistically significant difference between the means in the control group and test group. However, when we looked at the descriptive statistics of the purchase variable, we saw that the new design had a positive effect on purchasing. So we found this result by chance. :) "
   ]
  },
  {
   "cell_type": "markdown",
   "id": "27259dd0",
   "metadata": {
    "papermill": {
     "duration": 0.063518,
     "end_time": "2022-04-06T14:20:53.341055",
     "exception": false,
     "start_time": "2022-04-06T14:20:53.277537",
     "status": "completed"
    },
    "tags": []
   },
   "source": [
    "> Notes: \n",
    "\n",
    "1.) If the data does not follow a normality distribution, we use the Mann-Whitney U test.\n",
    "\n",
    "2.) If the data follow a normality distribution but variances are not homogeneity, we use the Weltch test. \n",
    "\n"
   ]
  },
  {
   "cell_type": "markdown",
   "id": "fa68a73d",
   "metadata": {
    "papermill": {
     "duration": 0.061353,
     "end_time": "2022-04-06T14:20:53.468072",
     "exception": false,
     "start_time": "2022-04-06T14:20:53.406719",
     "status": "completed"
    },
    "tags": []
   },
   "source": [
    "Let's functionalize all the above operations."
   ]
  },
  {
   "cell_type": "code",
   "execution_count": 16,
   "id": "00c3e3b5",
   "metadata": {
    "execution": {
     "iopub.execute_input": "2022-04-06T14:20:53.595603Z",
     "iopub.status.busy": "2022-04-06T14:20:53.594872Z",
     "iopub.status.idle": "2022-04-06T14:20:53.608244Z",
     "shell.execute_reply": "2022-04-06T14:20:53.608899Z",
     "shell.execute_reply.started": "2022-04-06T14:14:56.126722Z"
    },
    "papermill": {
     "duration": 0.078488,
     "end_time": "2022-04-06T14:20:53.609108",
     "exception": false,
     "start_time": "2022-04-06T14:20:53.530620",
     "status": "completed"
    },
    "tags": []
   },
   "outputs": [],
   "source": [
    "\n",
    "def AB_Test(dataframe, group, target):\n",
    "\n",
    "    # Necessary packages\n",
    "    from scipy.stats import shapiro\n",
    "    import scipy.stats as stats\n",
    "\n",
    "    # # Split A/B\n",
    "    control = dataframe[dataframe[group] == \"Control\"][target] #Old Design\n",
    "    test = dataframe[dataframe[group] == \"Test\"][target] #New Desing\n",
    "\n",
    "    # Assumption of the Normality \n",
    "    normality_control = shapiro(control)[1] < 0.05\n",
    "    normality_test = shapiro(test)[1] < 0.05\n",
    "\n",
    "    # H0: Data follow a normal distribution.- False\n",
    "    # H1: Data do not follow a normal distribution. - True\n",
    "\n",
    "    if (normality_control == False) & (normality_test == False):  # \"H0: Data follow a normal distribution\n",
    "        # Parametric Test\n",
    "        # Assumption: Homogeneity of variances\n",
    "\n",
    "        leveneTest = stats.levene(control, test)[1] < 0.05\n",
    "        # H0: Homogeneity: False\n",
    "        # H1: Heterogeneous: True\n",
    "\n",
    "        if leveneTest == False:\n",
    "            # Homogeneity\n",
    "            ttest = stats.ttest_ind(control, test, equal_var=True)[1] # Attention! equal_var=True\n",
    "            # H0: M1 == M2 - False\n",
    "            # H1: M1 != M2 - True\n",
    "        else:\n",
    "            # Heterogeneous\n",
    "            ttest = stats.ttest_ind(control, test, equal_var=False)[1] #Attention! equal_var=False\n",
    "            # H0: M1 == M2 - False\n",
    "            # H1: M1 != M2 - True\n",
    "    else:\n",
    "        # Non-Parametric Test\n",
    "        ttest = stats.mannwhitneyu(control, test)[1]\n",
    "        # H0: M1 == M2 - False\n",
    "        # H1: M1 != M2 - True\n",
    "\n",
    "    # Result\n",
    "    temp = pd.DataFrame({\n",
    "        \"AB Hypothesis\": [ttest < 0.05],\n",
    "        \"p-value\": [ttest]\n",
    "    })\n",
    "    temp[\"Test Type\"] = np.where((normality_control == False) & (normality_test == False), \"Parametric\", \"Non-Parametric\")\n",
    "    temp[\"AB Hypothesis\"] = np.where(temp[\"AB Hypothesis\"] == False, \"Fail to Reject H0\", \"Reject H0\")\n",
    "    temp[\"Comment\"] = np.where(temp[\"AB Hypothesis\"] == \"Fail to Reject H0\", \"A/B groups are similar!\",\n",
    "                               \"A/B groups are not similar!\")\n",
    "\n",
    "    # Columns\n",
    "    if (normality_control == False) & (normality_test == False):\n",
    "        temp[\"Homogeneity\"] = np.where(leveneTest == False, \"Yes\", \"No\")\n",
    "        temp = temp[[\"Test Type\", \"Homogeneity\", \"AB Hypothesis\", \"p-value\", \"Comment\"]]\n",
    "    else:\n",
    "        temp = temp[[\"Test Type\", \"AB Hypothesis\", \"p-value\", \"Comment\"]]\n",
    "\n",
    "    # Print Hypothesis\n",
    "    print(\"# A/B Testing Hypothesis\")\n",
    "    print(\"H0: A == B\")\n",
    "    print(\"H1: A != B\", \"\\n\")\n",
    "\n",
    "    return temp\n"
   ]
  },
  {
   "cell_type": "markdown",
   "id": "d173034e",
   "metadata": {
    "papermill": {
     "duration": 0.061781,
     "end_time": "2022-04-06T14:20:53.733167",
     "exception": false,
     "start_time": "2022-04-06T14:20:53.671386",
     "status": "completed"
    },
    "tags": []
   },
   "source": [
    "# > Application Step\n"
   ]
  },
  {
   "cell_type": "markdown",
   "id": "fd9b21ff",
   "metadata": {
    "papermill": {
     "duration": 0.06221,
     "end_time": "2022-04-06T14:20:53.857817",
     "exception": false,
     "start_time": "2022-04-06T14:20:53.795607",
     "status": "completed"
    },
    "tags": []
   },
   "source": [
    "> # 1.FOR PURCHASE "
   ]
  },
  {
   "cell_type": "code",
   "execution_count": 17,
   "id": "ee058ea5",
   "metadata": {
    "execution": {
     "iopub.execute_input": "2022-04-06T14:20:53.983842Z",
     "iopub.status.busy": "2022-04-06T14:20:53.983182Z",
     "iopub.status.idle": "2022-04-06T14:20:54.001386Z",
     "shell.execute_reply": "2022-04-06T14:20:54.001989Z",
     "shell.execute_reply.started": "2022-04-06T14:15:11.622975Z"
    },
    "papermill": {
     "duration": 0.082943,
     "end_time": "2022-04-06T14:20:54.002185",
     "exception": false,
     "start_time": "2022-04-06T14:20:53.919242",
     "status": "completed"
    },
    "tags": []
   },
   "outputs": [
    {
     "name": "stdout",
     "output_type": "stream",
     "text": [
      "# A/B Testing Hypothesis\n",
      "H0: A == B\n",
      "H1: A != B \n",
      "\n"
     ]
    },
    {
     "data": {
      "text/html": [
       "<div>\n",
       "<style scoped>\n",
       "    .dataframe tbody tr th:only-of-type {\n",
       "        vertical-align: middle;\n",
       "    }\n",
       "\n",
       "    .dataframe tbody tr th {\n",
       "        vertical-align: top;\n",
       "    }\n",
       "\n",
       "    .dataframe thead th {\n",
       "        text-align: right;\n",
       "    }\n",
       "</style>\n",
       "<table border=\"1\" class=\"dataframe\">\n",
       "  <thead>\n",
       "    <tr style=\"text-align: right;\">\n",
       "      <th></th>\n",
       "      <th>Test Type</th>\n",
       "      <th>Homogeneity</th>\n",
       "      <th>AB Hypothesis</th>\n",
       "      <th>p-value</th>\n",
       "      <th>Comment</th>\n",
       "    </tr>\n",
       "  </thead>\n",
       "  <tbody>\n",
       "    <tr>\n",
       "      <th>0</th>\n",
       "      <td>Parametric</td>\n",
       "      <td>Yes</td>\n",
       "      <td>Fail to Reject H0</td>\n",
       "      <td>0.34933</td>\n",
       "      <td>A/B groups are similar!</td>\n",
       "    </tr>\n",
       "  </tbody>\n",
       "</table>\n",
       "</div>"
      ],
      "text/plain": [
       "    Test Type Homogeneity      AB Hypothesis  p-value                  Comment\n",
       "0  Parametric         Yes  Fail to Reject H0  0.34933  A/B groups are similar!"
      ]
     },
     "execution_count": 17,
     "metadata": {},
     "output_type": "execute_result"
    }
   ],
   "source": [
    "AB_Test(dataframe=final_df, group=\"Group\", target=\"Purchase\")"
   ]
  },
  {
   "cell_type": "markdown",
   "id": "26a72001",
   "metadata": {
    "papermill": {
     "duration": 0.062315,
     "end_time": "2022-04-06T14:20:54.129125",
     "exception": false,
     "start_time": "2022-04-06T14:20:54.066810",
     "status": "completed"
    },
    "tags": []
   },
   "source": [
    "> # 2.FOR CLICK"
   ]
  },
  {
   "cell_type": "code",
   "execution_count": 18,
   "id": "bf7495d9",
   "metadata": {
    "execution": {
     "iopub.execute_input": "2022-04-06T14:20:54.257091Z",
     "iopub.status.busy": "2022-04-06T14:20:54.256395Z",
     "iopub.status.idle": "2022-04-06T14:20:54.273036Z",
     "shell.execute_reply": "2022-04-06T14:20:54.273566Z",
     "shell.execute_reply.started": "2022-04-06T14:15:57.923307Z"
    },
    "papermill": {
     "duration": 0.082378,
     "end_time": "2022-04-06T14:20:54.273734",
     "exception": false,
     "start_time": "2022-04-06T14:20:54.191356",
     "status": "completed"
    },
    "tags": []
   },
   "outputs": [
    {
     "name": "stdout",
     "output_type": "stream",
     "text": [
      "# A/B Testing Hypothesis\n",
      "H0: A == B\n",
      "H1: A != B \n",
      "\n"
     ]
    },
    {
     "data": {
      "text/html": [
       "<div>\n",
       "<style scoped>\n",
       "    .dataframe tbody tr th:only-of-type {\n",
       "        vertical-align: middle;\n",
       "    }\n",
       "\n",
       "    .dataframe tbody tr th {\n",
       "        vertical-align: top;\n",
       "    }\n",
       "\n",
       "    .dataframe thead th {\n",
       "        text-align: right;\n",
       "    }\n",
       "</style>\n",
       "<table border=\"1\" class=\"dataframe\">\n",
       "  <thead>\n",
       "    <tr style=\"text-align: right;\">\n",
       "      <th></th>\n",
       "      <th>Test Type</th>\n",
       "      <th>Homogeneity</th>\n",
       "      <th>AB Hypothesis</th>\n",
       "      <th>p-value</th>\n",
       "      <th>Comment</th>\n",
       "    </tr>\n",
       "  </thead>\n",
       "  <tbody>\n",
       "    <tr>\n",
       "      <th>0</th>\n",
       "      <td>Parametric</td>\n",
       "      <td>No</td>\n",
       "      <td>Reject H0</td>\n",
       "      <td>0.00003</td>\n",
       "      <td>A/B groups are not similar!</td>\n",
       "    </tr>\n",
       "  </tbody>\n",
       "</table>\n",
       "</div>"
      ],
      "text/plain": [
       "    Test Type Homogeneity AB Hypothesis  p-value                      Comment\n",
       "0  Parametric          No     Reject H0  0.00003  A/B groups are not similar!"
      ]
     },
     "execution_count": 18,
     "metadata": {},
     "output_type": "execute_result"
    }
   ],
   "source": [
    "AB_Test(dataframe=final_df, group=\"Group\", target=\"Click\")"
   ]
  },
  {
   "cell_type": "markdown",
   "id": "109ef845",
   "metadata": {
    "papermill": {
     "duration": 0.063461,
     "end_time": "2022-04-06T14:20:54.400721",
     "exception": false,
     "start_time": "2022-04-06T14:20:54.337260",
     "status": "completed"
    },
    "tags": []
   },
   "source": [
    "> # 3.FOR IMPRESSION"
   ]
  },
  {
   "cell_type": "code",
   "execution_count": 19,
   "id": "48c90424",
   "metadata": {
    "execution": {
     "iopub.execute_input": "2022-04-06T14:20:54.545372Z",
     "iopub.status.busy": "2022-04-06T14:20:54.544405Z",
     "iopub.status.idle": "2022-04-06T14:20:54.549468Z",
     "shell.execute_reply": "2022-04-06T14:20:54.549984Z",
     "shell.execute_reply.started": "2022-04-06T14:16:09.936196Z"
    },
    "papermill": {
     "duration": 0.085975,
     "end_time": "2022-04-06T14:20:54.550184",
     "exception": false,
     "start_time": "2022-04-06T14:20:54.464209",
     "status": "completed"
    },
    "tags": []
   },
   "outputs": [
    {
     "name": "stdout",
     "output_type": "stream",
     "text": [
      "# A/B Testing Hypothesis\n",
      "H0: A == B\n",
      "H1: A != B \n",
      "\n"
     ]
    },
    {
     "data": {
      "text/html": [
       "<div>\n",
       "<style scoped>\n",
       "    .dataframe tbody tr th:only-of-type {\n",
       "        vertical-align: middle;\n",
       "    }\n",
       "\n",
       "    .dataframe tbody tr th {\n",
       "        vertical-align: top;\n",
       "    }\n",
       "\n",
       "    .dataframe thead th {\n",
       "        text-align: right;\n",
       "    }\n",
       "</style>\n",
       "<table border=\"1\" class=\"dataframe\">\n",
       "  <thead>\n",
       "    <tr style=\"text-align: right;\">\n",
       "      <th></th>\n",
       "      <th>Test Type</th>\n",
       "      <th>Homogeneity</th>\n",
       "      <th>AB Hypothesis</th>\n",
       "      <th>p-value</th>\n",
       "      <th>Comment</th>\n",
       "    </tr>\n",
       "  </thead>\n",
       "  <tbody>\n",
       "    <tr>\n",
       "      <th>0</th>\n",
       "      <td>Parametric</td>\n",
       "      <td>Yes</td>\n",
       "      <td>Reject H0</td>\n",
       "      <td>0.00005</td>\n",
       "      <td>A/B groups are not similar!</td>\n",
       "    </tr>\n",
       "  </tbody>\n",
       "</table>\n",
       "</div>"
      ],
      "text/plain": [
       "    Test Type Homogeneity AB Hypothesis  p-value                      Comment\n",
       "0  Parametric         Yes     Reject H0  0.00005  A/B groups are not similar!"
      ]
     },
     "execution_count": 19,
     "metadata": {},
     "output_type": "execute_result"
    }
   ],
   "source": [
    "AB_Test(dataframe=final_df, group=\"Group\", target=\"Impression\")"
   ]
  },
  {
   "cell_type": "markdown",
   "id": "77114349",
   "metadata": {
    "papermill": {
     "duration": 0.063771,
     "end_time": "2022-04-06T14:20:54.680196",
     "exception": false,
     "start_time": "2022-04-06T14:20:54.616425",
     "status": "completed"
    },
    "tags": []
   },
   "source": [
    "> #  4.FOR EARNING"
   ]
  },
  {
   "cell_type": "code",
   "execution_count": 20,
   "id": "da33df75",
   "metadata": {
    "execution": {
     "iopub.execute_input": "2022-04-06T14:20:54.816608Z",
     "iopub.status.busy": "2022-04-06T14:20:54.815587Z",
     "iopub.status.idle": "2022-04-06T14:20:54.830528Z",
     "shell.execute_reply": "2022-04-06T14:20:54.831279Z",
     "shell.execute_reply.started": "2022-04-06T14:16:16.284677Z"
    },
    "papermill": {
     "duration": 0.087236,
     "end_time": "2022-04-06T14:20:54.831520",
     "exception": false,
     "start_time": "2022-04-06T14:20:54.744284",
     "status": "completed"
    },
    "tags": []
   },
   "outputs": [
    {
     "name": "stdout",
     "output_type": "stream",
     "text": [
      "# A/B Testing Hypothesis\n",
      "H0: A == B\n",
      "H1: A != B \n",
      "\n"
     ]
    },
    {
     "data": {
      "text/html": [
       "<div>\n",
       "<style scoped>\n",
       "    .dataframe tbody tr th:only-of-type {\n",
       "        vertical-align: middle;\n",
       "    }\n",
       "\n",
       "    .dataframe tbody tr th {\n",
       "        vertical-align: top;\n",
       "    }\n",
       "\n",
       "    .dataframe thead th {\n",
       "        text-align: right;\n",
       "    }\n",
       "</style>\n",
       "<table border=\"1\" class=\"dataframe\">\n",
       "  <thead>\n",
       "    <tr style=\"text-align: right;\">\n",
       "      <th></th>\n",
       "      <th>Test Type</th>\n",
       "      <th>Homogeneity</th>\n",
       "      <th>AB Hypothesis</th>\n",
       "      <th>p-value</th>\n",
       "      <th>Comment</th>\n",
       "    </tr>\n",
       "  </thead>\n",
       "  <tbody>\n",
       "    <tr>\n",
       "      <th>0</th>\n",
       "      <td>Parametric</td>\n",
       "      <td>Yes</td>\n",
       "      <td>Reject H0</td>\n",
       "      <td>0.00000</td>\n",
       "      <td>A/B groups are not similar!</td>\n",
       "    </tr>\n",
       "  </tbody>\n",
       "</table>\n",
       "</div>"
      ],
      "text/plain": [
       "    Test Type Homogeneity AB Hypothesis  p-value                      Comment\n",
       "0  Parametric         Yes     Reject H0  0.00000  A/B groups are not similar!"
      ]
     },
     "execution_count": 20,
     "metadata": {},
     "output_type": "execute_result"
    }
   ],
   "source": [
    "AB_Test(dataframe=final_df, group=\"Group\", target=\"Earning\")"
   ]
  },
  {
   "cell_type": "markdown",
   "id": "95cb152c",
   "metadata": {
    "papermill": {
     "duration": 0.067735,
     "end_time": "2022-04-06T14:20:54.967239",
     "exception": false,
     "start_time": "2022-04-06T14:20:54.899504",
     "status": "completed"
    },
    "tags": []
   },
   "source": [
    "Let's create other metrics!!"
   ]
  },
  {
   "cell_type": "markdown",
   "id": "b45f7b61",
   "metadata": {
    "papermill": {
     "duration": 0.064985,
     "end_time": "2022-04-06T14:20:55.099742",
     "exception": false,
     "start_time": "2022-04-06T14:20:55.034757",
     "status": "completed"
    },
    "tags": []
   },
   "source": [
    "> #  5.click_per_impression"
   ]
  },
  {
   "cell_type": "code",
   "execution_count": 21,
   "id": "5446ca87",
   "metadata": {
    "execution": {
     "iopub.execute_input": "2022-04-06T14:20:55.238524Z",
     "iopub.status.busy": "2022-04-06T14:20:55.237446Z",
     "iopub.status.idle": "2022-04-06T14:20:55.246371Z",
     "shell.execute_reply": "2022-04-06T14:20:55.247005Z",
     "shell.execute_reply.started": "2022-04-06T14:16:35.770858Z"
    },
    "papermill": {
     "duration": 0.082453,
     "end_time": "2022-04-06T14:20:55.247197",
     "exception": false,
     "start_time": "2022-04-06T14:20:55.164744",
     "status": "completed"
    },
    "tags": []
   },
   "outputs": [
    {
     "data": {
      "text/html": [
       "<div>\n",
       "<style scoped>\n",
       "    .dataframe tbody tr th:only-of-type {\n",
       "        vertical-align: middle;\n",
       "    }\n",
       "\n",
       "    .dataframe tbody tr th {\n",
       "        vertical-align: top;\n",
       "    }\n",
       "\n",
       "    .dataframe thead th {\n",
       "        text-align: right;\n",
       "    }\n",
       "</style>\n",
       "<table border=\"1\" class=\"dataframe\">\n",
       "  <thead>\n",
       "    <tr style=\"text-align: right;\">\n",
       "      <th></th>\n",
       "      <th>Impression</th>\n",
       "      <th>Click</th>\n",
       "      <th>Purchase</th>\n",
       "      <th>Earning</th>\n",
       "      <th>Group</th>\n",
       "      <th>click_per_impression</th>\n",
       "    </tr>\n",
       "  </thead>\n",
       "  <tbody>\n",
       "    <tr>\n",
       "      <th>0</th>\n",
       "      <td>82529.45927</td>\n",
       "      <td>6090.07732</td>\n",
       "      <td>665.21125</td>\n",
       "      <td>2311.27714</td>\n",
       "      <td>Control</td>\n",
       "      <td>0.07379</td>\n",
       "    </tr>\n",
       "    <tr>\n",
       "      <th>1</th>\n",
       "      <td>98050.45193</td>\n",
       "      <td>3382.86179</td>\n",
       "      <td>315.08489</td>\n",
       "      <td>1742.80686</td>\n",
       "      <td>Control</td>\n",
       "      <td>0.03450</td>\n",
       "    </tr>\n",
       "    <tr>\n",
       "      <th>2</th>\n",
       "      <td>82696.02355</td>\n",
       "      <td>4167.96575</td>\n",
       "      <td>458.08374</td>\n",
       "      <td>1797.82745</td>\n",
       "      <td>Control</td>\n",
       "      <td>0.05040</td>\n",
       "    </tr>\n",
       "    <tr>\n",
       "      <th>3</th>\n",
       "      <td>109914.40040</td>\n",
       "      <td>4910.88224</td>\n",
       "      <td>487.09077</td>\n",
       "      <td>1696.22918</td>\n",
       "      <td>Control</td>\n",
       "      <td>0.04468</td>\n",
       "    </tr>\n",
       "    <tr>\n",
       "      <th>4</th>\n",
       "      <td>108457.76263</td>\n",
       "      <td>5987.65581</td>\n",
       "      <td>441.03405</td>\n",
       "      <td>1543.72018</td>\n",
       "      <td>Control</td>\n",
       "      <td>0.05521</td>\n",
       "    </tr>\n",
       "  </tbody>\n",
       "</table>\n",
       "</div>"
      ],
      "text/plain": [
       "    Impression      Click  Purchase    Earning    Group  click_per_impression\n",
       "0  82529.45927 6090.07732 665.21125 2311.27714  Control               0.07379\n",
       "1  98050.45193 3382.86179 315.08489 1742.80686  Control               0.03450\n",
       "2  82696.02355 4167.96575 458.08374 1797.82745  Control               0.05040\n",
       "3 109914.40040 4910.88224 487.09077 1696.22918  Control               0.04468\n",
       "4 108457.76263 5987.65581 441.03405 1543.72018  Control               0.05521"
      ]
     },
     "execution_count": 21,
     "metadata": {},
     "output_type": "execute_result"
    }
   ],
   "source": [
    "final_df[\"click_per_impression\"] = final_df[\"Click\"] / final_df[\"Impression\"]\n",
    "final_df.head()"
   ]
  },
  {
   "cell_type": "code",
   "execution_count": 22,
   "id": "b266259f",
   "metadata": {
    "execution": {
     "iopub.execute_input": "2022-04-06T14:20:55.384628Z",
     "iopub.status.busy": "2022-04-06T14:20:55.383560Z",
     "iopub.status.idle": "2022-04-06T14:20:55.396511Z",
     "shell.execute_reply": "2022-04-06T14:20:55.397076Z",
     "shell.execute_reply.started": "2022-04-06T14:16:40.394297Z"
    },
    "papermill": {
     "duration": 0.08419,
     "end_time": "2022-04-06T14:20:55.397250",
     "exception": false,
     "start_time": "2022-04-06T14:20:55.313060",
     "status": "completed"
    },
    "tags": []
   },
   "outputs": [
    {
     "data": {
      "text/html": [
       "<div>\n",
       "<style scoped>\n",
       "    .dataframe tbody tr th:only-of-type {\n",
       "        vertical-align: middle;\n",
       "    }\n",
       "\n",
       "    .dataframe tbody tr th {\n",
       "        vertical-align: top;\n",
       "    }\n",
       "\n",
       "    .dataframe thead th {\n",
       "        text-align: right;\n",
       "    }\n",
       "</style>\n",
       "<table border=\"1\" class=\"dataframe\">\n",
       "  <thead>\n",
       "    <tr style=\"text-align: right;\">\n",
       "      <th></th>\n",
       "      <th>mean</th>\n",
       "      <th>min</th>\n",
       "      <th>max</th>\n",
       "      <th>sum</th>\n",
       "      <th>median</th>\n",
       "    </tr>\n",
       "    <tr>\n",
       "      <th>Group</th>\n",
       "      <th></th>\n",
       "      <th></th>\n",
       "      <th></th>\n",
       "      <th></th>\n",
       "      <th></th>\n",
       "    </tr>\n",
       "  </thead>\n",
       "  <tbody>\n",
       "    <tr>\n",
       "      <th>Control</th>\n",
       "      <td>0.05362</td>\n",
       "      <td>0.02076</td>\n",
       "      <td>0.16207</td>\n",
       "      <td>2.14473</td>\n",
       "      <td>0.04880</td>\n",
       "    </tr>\n",
       "    <tr>\n",
       "      <th>Test</th>\n",
       "      <td>0.03418</td>\n",
       "      <td>0.01473</td>\n",
       "      <td>0.07575</td>\n",
       "      <td>1.36704</td>\n",
       "      <td>0.03136</td>\n",
       "    </tr>\n",
       "  </tbody>\n",
       "</table>\n",
       "</div>"
      ],
      "text/plain": [
       "           mean     min     max     sum  median\n",
       "Group                                          \n",
       "Control 0.05362 0.02076 0.16207 2.14473 0.04880\n",
       "Test    0.03418 0.01473 0.07575 1.36704 0.03136"
      ]
     },
     "execution_count": 22,
     "metadata": {},
     "output_type": "execute_result"
    }
   ],
   "source": [
    "final_df.groupby(\"Group\")[\"click_per_impression\"].agg([\"mean\",\"min\",\"max\",\"sum\",\"median\"])"
   ]
  },
  {
   "cell_type": "code",
   "execution_count": 23,
   "id": "da9d97be",
   "metadata": {
    "execution": {
     "iopub.execute_input": "2022-04-06T14:20:55.533823Z",
     "iopub.status.busy": "2022-04-06T14:20:55.532848Z",
     "iopub.status.idle": "2022-04-06T14:20:55.550535Z",
     "shell.execute_reply": "2022-04-06T14:20:55.551375Z",
     "shell.execute_reply.started": "2022-04-06T14:16:43.277009Z"
    },
    "papermill": {
     "duration": 0.088137,
     "end_time": "2022-04-06T14:20:55.551597",
     "exception": false,
     "start_time": "2022-04-06T14:20:55.463460",
     "status": "completed"
    },
    "tags": []
   },
   "outputs": [
    {
     "name": "stdout",
     "output_type": "stream",
     "text": [
      "# A/B Testing Hypothesis\n",
      "H0: A == B\n",
      "H1: A != B \n",
      "\n"
     ]
    },
    {
     "data": {
      "text/html": [
       "<div>\n",
       "<style scoped>\n",
       "    .dataframe tbody tr th:only-of-type {\n",
       "        vertical-align: middle;\n",
       "    }\n",
       "\n",
       "    .dataframe tbody tr th {\n",
       "        vertical-align: top;\n",
       "    }\n",
       "\n",
       "    .dataframe thead th {\n",
       "        text-align: right;\n",
       "    }\n",
       "</style>\n",
       "<table border=\"1\" class=\"dataframe\">\n",
       "  <thead>\n",
       "    <tr style=\"text-align: right;\">\n",
       "      <th></th>\n",
       "      <th>Test Type</th>\n",
       "      <th>AB Hypothesis</th>\n",
       "      <th>p-value</th>\n",
       "      <th>Comment</th>\n",
       "    </tr>\n",
       "  </thead>\n",
       "  <tbody>\n",
       "    <tr>\n",
       "      <th>0</th>\n",
       "      <td>Non-Parametric</td>\n",
       "      <td>Reject H0</td>\n",
       "      <td>0.00000</td>\n",
       "      <td>A/B groups are not similar!</td>\n",
       "    </tr>\n",
       "  </tbody>\n",
       "</table>\n",
       "</div>"
      ],
      "text/plain": [
       "        Test Type AB Hypothesis  p-value                      Comment\n",
       "0  Non-Parametric     Reject H0  0.00000  A/B groups are not similar!"
      ]
     },
     "execution_count": 23,
     "metadata": {},
     "output_type": "execute_result"
    }
   ],
   "source": [
    "AB_Test(dataframe=final_df, group=\"Group\", target=\"click_per_impression\")"
   ]
  },
  {
   "cell_type": "markdown",
   "id": "8e155ef2",
   "metadata": {
    "papermill": {
     "duration": 0.067059,
     "end_time": "2022-04-06T14:20:55.686594",
     "exception": false,
     "start_time": "2022-04-06T14:20:55.619535",
     "status": "completed"
    },
    "tags": []
   },
   "source": [
    "> #  6.purchases_per_impression"
   ]
  },
  {
   "cell_type": "code",
   "execution_count": 24,
   "id": "5fc78c19",
   "metadata": {
    "execution": {
     "iopub.execute_input": "2022-04-06T14:20:55.835682Z",
     "iopub.status.busy": "2022-04-06T14:20:55.834777Z",
     "iopub.status.idle": "2022-04-06T14:20:55.838756Z",
     "shell.execute_reply": "2022-04-06T14:20:55.838236Z",
     "shell.execute_reply.started": "2022-04-06T14:16:55.466302Z"
    },
    "papermill": {
     "duration": 0.084811,
     "end_time": "2022-04-06T14:20:55.838894",
     "exception": false,
     "start_time": "2022-04-06T14:20:55.754083",
     "status": "completed"
    },
    "tags": []
   },
   "outputs": [
    {
     "data": {
      "text/html": [
       "<div>\n",
       "<style scoped>\n",
       "    .dataframe tbody tr th:only-of-type {\n",
       "        vertical-align: middle;\n",
       "    }\n",
       "\n",
       "    .dataframe tbody tr th {\n",
       "        vertical-align: top;\n",
       "    }\n",
       "\n",
       "    .dataframe thead th {\n",
       "        text-align: right;\n",
       "    }\n",
       "</style>\n",
       "<table border=\"1\" class=\"dataframe\">\n",
       "  <thead>\n",
       "    <tr style=\"text-align: right;\">\n",
       "      <th></th>\n",
       "      <th>Impression</th>\n",
       "      <th>Click</th>\n",
       "      <th>Purchase</th>\n",
       "      <th>Earning</th>\n",
       "      <th>Group</th>\n",
       "      <th>click_per_impression</th>\n",
       "      <th>purchases_per_impression</th>\n",
       "    </tr>\n",
       "  </thead>\n",
       "  <tbody>\n",
       "    <tr>\n",
       "      <th>0</th>\n",
       "      <td>82529.45927</td>\n",
       "      <td>6090.07732</td>\n",
       "      <td>665.21125</td>\n",
       "      <td>2311.27714</td>\n",
       "      <td>Control</td>\n",
       "      <td>0.07379</td>\n",
       "      <td>0.00806</td>\n",
       "    </tr>\n",
       "    <tr>\n",
       "      <th>1</th>\n",
       "      <td>98050.45193</td>\n",
       "      <td>3382.86179</td>\n",
       "      <td>315.08489</td>\n",
       "      <td>1742.80686</td>\n",
       "      <td>Control</td>\n",
       "      <td>0.03450</td>\n",
       "      <td>0.00321</td>\n",
       "    </tr>\n",
       "    <tr>\n",
       "      <th>2</th>\n",
       "      <td>82696.02355</td>\n",
       "      <td>4167.96575</td>\n",
       "      <td>458.08374</td>\n",
       "      <td>1797.82745</td>\n",
       "      <td>Control</td>\n",
       "      <td>0.05040</td>\n",
       "      <td>0.00554</td>\n",
       "    </tr>\n",
       "    <tr>\n",
       "      <th>3</th>\n",
       "      <td>109914.40040</td>\n",
       "      <td>4910.88224</td>\n",
       "      <td>487.09077</td>\n",
       "      <td>1696.22918</td>\n",
       "      <td>Control</td>\n",
       "      <td>0.04468</td>\n",
       "      <td>0.00443</td>\n",
       "    </tr>\n",
       "    <tr>\n",
       "      <th>4</th>\n",
       "      <td>108457.76263</td>\n",
       "      <td>5987.65581</td>\n",
       "      <td>441.03405</td>\n",
       "      <td>1543.72018</td>\n",
       "      <td>Control</td>\n",
       "      <td>0.05521</td>\n",
       "      <td>0.00407</td>\n",
       "    </tr>\n",
       "  </tbody>\n",
       "</table>\n",
       "</div>"
      ],
      "text/plain": [
       "    Impression      Click  Purchase    Earning    Group  click_per_impression  \\\n",
       "0  82529.45927 6090.07732 665.21125 2311.27714  Control               0.07379   \n",
       "1  98050.45193 3382.86179 315.08489 1742.80686  Control               0.03450   \n",
       "2  82696.02355 4167.96575 458.08374 1797.82745  Control               0.05040   \n",
       "3 109914.40040 4910.88224 487.09077 1696.22918  Control               0.04468   \n",
       "4 108457.76263 5987.65581 441.03405 1543.72018  Control               0.05521   \n",
       "\n",
       "   purchases_per_impression  \n",
       "0                   0.00806  \n",
       "1                   0.00321  \n",
       "2                   0.00554  \n",
       "3                   0.00443  \n",
       "4                   0.00407  "
      ]
     },
     "execution_count": 24,
     "metadata": {},
     "output_type": "execute_result"
    }
   ],
   "source": [
    "final_df[\"purchases_per_impression\"] = final_df[\"Purchase\"] / final_df[\"Impression\"]\n",
    "final_df.head()"
   ]
  },
  {
   "cell_type": "code",
   "execution_count": 25,
   "id": "b629cad7",
   "metadata": {
    "execution": {
     "iopub.execute_input": "2022-04-06T14:20:55.988386Z",
     "iopub.status.busy": "2022-04-06T14:20:55.987320Z",
     "iopub.status.idle": "2022-04-06T14:20:55.992096Z",
     "shell.execute_reply": "2022-04-06T14:20:55.991503Z",
     "shell.execute_reply.started": "2022-04-06T14:16:58.070035Z"
    },
    "papermill": {
     "duration": 0.085608,
     "end_time": "2022-04-06T14:20:55.992267",
     "exception": false,
     "start_time": "2022-04-06T14:20:55.906659",
     "status": "completed"
    },
    "tags": []
   },
   "outputs": [
    {
     "data": {
      "text/html": [
       "<div>\n",
       "<style scoped>\n",
       "    .dataframe tbody tr th:only-of-type {\n",
       "        vertical-align: middle;\n",
       "    }\n",
       "\n",
       "    .dataframe tbody tr th {\n",
       "        vertical-align: top;\n",
       "    }\n",
       "\n",
       "    .dataframe thead th {\n",
       "        text-align: right;\n",
       "    }\n",
       "</style>\n",
       "<table border=\"1\" class=\"dataframe\">\n",
       "  <thead>\n",
       "    <tr style=\"text-align: right;\">\n",
       "      <th></th>\n",
       "      <th>mean</th>\n",
       "      <th>min</th>\n",
       "      <th>max</th>\n",
       "      <th>sum</th>\n",
       "      <th>median</th>\n",
       "    </tr>\n",
       "    <tr>\n",
       "      <th>Group</th>\n",
       "      <th></th>\n",
       "      <th></th>\n",
       "      <th></th>\n",
       "      <th></th>\n",
       "      <th></th>\n",
       "    </tr>\n",
       "  </thead>\n",
       "  <tbody>\n",
       "    <tr>\n",
       "      <th>Control</th>\n",
       "      <td>0.00558</td>\n",
       "      <td>0.00223</td>\n",
       "      <td>0.00891</td>\n",
       "      <td>0.22320</td>\n",
       "      <td>0.00544</td>\n",
       "    </tr>\n",
       "    <tr>\n",
       "      <th>Test</th>\n",
       "      <td>0.00492</td>\n",
       "      <td>0.00227</td>\n",
       "      <td>0.00924</td>\n",
       "      <td>0.19688</td>\n",
       "      <td>0.00483</td>\n",
       "    </tr>\n",
       "  </tbody>\n",
       "</table>\n",
       "</div>"
      ],
      "text/plain": [
       "           mean     min     max     sum  median\n",
       "Group                                          \n",
       "Control 0.00558 0.00223 0.00891 0.22320 0.00544\n",
       "Test    0.00492 0.00227 0.00924 0.19688 0.00483"
      ]
     },
     "execution_count": 25,
     "metadata": {},
     "output_type": "execute_result"
    }
   ],
   "source": [
    "final_df.groupby(\"Group\")[\"purchases_per_impression\"].agg([\"mean\",\"min\",\"max\",\"sum\",\"median\"])"
   ]
  },
  {
   "cell_type": "code",
   "execution_count": 26,
   "id": "3f98185d",
   "metadata": {
    "execution": {
     "iopub.execute_input": "2022-04-06T14:20:56.136251Z",
     "iopub.status.busy": "2022-04-06T14:20:56.135542Z",
     "iopub.status.idle": "2022-04-06T14:20:56.152835Z",
     "shell.execute_reply": "2022-04-06T14:20:56.153387Z",
     "shell.execute_reply.started": "2022-04-06T14:17:01.482743Z"
    },
    "papermill": {
     "duration": 0.091212,
     "end_time": "2022-04-06T14:20:56.153568",
     "exception": false,
     "start_time": "2022-04-06T14:20:56.062356",
     "status": "completed"
    },
    "tags": []
   },
   "outputs": [
    {
     "name": "stdout",
     "output_type": "stream",
     "text": [
      "# A/B Testing Hypothesis\n",
      "H0: A == B\n",
      "H1: A != B \n",
      "\n"
     ]
    },
    {
     "data": {
      "text/html": [
       "<div>\n",
       "<style scoped>\n",
       "    .dataframe tbody tr th:only-of-type {\n",
       "        vertical-align: middle;\n",
       "    }\n",
       "\n",
       "    .dataframe tbody tr th {\n",
       "        vertical-align: top;\n",
       "    }\n",
       "\n",
       "    .dataframe thead th {\n",
       "        text-align: right;\n",
       "    }\n",
       "</style>\n",
       "<table border=\"1\" class=\"dataframe\">\n",
       "  <thead>\n",
       "    <tr style=\"text-align: right;\">\n",
       "      <th></th>\n",
       "      <th>Test Type</th>\n",
       "      <th>Homogeneity</th>\n",
       "      <th>AB Hypothesis</th>\n",
       "      <th>p-value</th>\n",
       "      <th>Comment</th>\n",
       "    </tr>\n",
       "  </thead>\n",
       "  <tbody>\n",
       "    <tr>\n",
       "      <th>0</th>\n",
       "      <td>Parametric</td>\n",
       "      <td>Yes</td>\n",
       "      <td>Fail to Reject H0</td>\n",
       "      <td>0.05571</td>\n",
       "      <td>A/B groups are similar!</td>\n",
       "    </tr>\n",
       "  </tbody>\n",
       "</table>\n",
       "</div>"
      ],
      "text/plain": [
       "    Test Type Homogeneity      AB Hypothesis  p-value                  Comment\n",
       "0  Parametric         Yes  Fail to Reject H0  0.05571  A/B groups are similar!"
      ]
     },
     "execution_count": 26,
     "metadata": {},
     "output_type": "execute_result"
    }
   ],
   "source": [
    "AB_Test(dataframe=final_df, group=\"Group\", target=\"purchases_per_impression\")"
   ]
  },
  {
   "cell_type": "markdown",
   "id": "f85ffae6",
   "metadata": {
    "papermill": {
     "duration": 0.068954,
     "end_time": "2022-04-06T14:20:56.292112",
     "exception": false,
     "start_time": "2022-04-06T14:20:56.223158",
     "status": "completed"
    },
    "tags": []
   },
   "source": [
    "> #  7.purchases_per_impression"
   ]
  },
  {
   "cell_type": "code",
   "execution_count": 27,
   "id": "e62c86cc",
   "metadata": {
    "execution": {
     "iopub.execute_input": "2022-04-06T14:20:56.453988Z",
     "iopub.status.busy": "2022-04-06T14:20:56.453271Z",
     "iopub.status.idle": "2022-04-06T14:20:56.465306Z",
     "shell.execute_reply": "2022-04-06T14:20:56.465884Z",
     "shell.execute_reply.started": "2022-04-06T14:17:13.377624Z"
    },
    "papermill": {
     "duration": 0.098536,
     "end_time": "2022-04-06T14:20:56.466074",
     "exception": false,
     "start_time": "2022-04-06T14:20:56.367538",
     "status": "completed"
    },
    "tags": []
   },
   "outputs": [
    {
     "data": {
      "text/html": [
       "<div>\n",
       "<style scoped>\n",
       "    .dataframe tbody tr th:only-of-type {\n",
       "        vertical-align: middle;\n",
       "    }\n",
       "\n",
       "    .dataframe tbody tr th {\n",
       "        vertical-align: top;\n",
       "    }\n",
       "\n",
       "    .dataframe thead th {\n",
       "        text-align: right;\n",
       "    }\n",
       "</style>\n",
       "<table border=\"1\" class=\"dataframe\">\n",
       "  <thead>\n",
       "    <tr style=\"text-align: right;\">\n",
       "      <th></th>\n",
       "      <th>Impression</th>\n",
       "      <th>Click</th>\n",
       "      <th>Purchase</th>\n",
       "      <th>Earning</th>\n",
       "      <th>Group</th>\n",
       "      <th>click_per_impression</th>\n",
       "      <th>purchases_per_impression</th>\n",
       "      <th>purchases_per_click</th>\n",
       "    </tr>\n",
       "  </thead>\n",
       "  <tbody>\n",
       "    <tr>\n",
       "      <th>0</th>\n",
       "      <td>82529.45927</td>\n",
       "      <td>6090.07732</td>\n",
       "      <td>665.21125</td>\n",
       "      <td>2311.27714</td>\n",
       "      <td>Control</td>\n",
       "      <td>0.07379</td>\n",
       "      <td>0.00806</td>\n",
       "      <td>0.10923</td>\n",
       "    </tr>\n",
       "    <tr>\n",
       "      <th>1</th>\n",
       "      <td>98050.45193</td>\n",
       "      <td>3382.86179</td>\n",
       "      <td>315.08489</td>\n",
       "      <td>1742.80686</td>\n",
       "      <td>Control</td>\n",
       "      <td>0.03450</td>\n",
       "      <td>0.00321</td>\n",
       "      <td>0.09314</td>\n",
       "    </tr>\n",
       "    <tr>\n",
       "      <th>2</th>\n",
       "      <td>82696.02355</td>\n",
       "      <td>4167.96575</td>\n",
       "      <td>458.08374</td>\n",
       "      <td>1797.82745</td>\n",
       "      <td>Control</td>\n",
       "      <td>0.05040</td>\n",
       "      <td>0.00554</td>\n",
       "      <td>0.10991</td>\n",
       "    </tr>\n",
       "    <tr>\n",
       "      <th>3</th>\n",
       "      <td>109914.40040</td>\n",
       "      <td>4910.88224</td>\n",
       "      <td>487.09077</td>\n",
       "      <td>1696.22918</td>\n",
       "      <td>Control</td>\n",
       "      <td>0.04468</td>\n",
       "      <td>0.00443</td>\n",
       "      <td>0.09919</td>\n",
       "    </tr>\n",
       "    <tr>\n",
       "      <th>4</th>\n",
       "      <td>108457.76263</td>\n",
       "      <td>5987.65581</td>\n",
       "      <td>441.03405</td>\n",
       "      <td>1543.72018</td>\n",
       "      <td>Control</td>\n",
       "      <td>0.05521</td>\n",
       "      <td>0.00407</td>\n",
       "      <td>0.07366</td>\n",
       "    </tr>\n",
       "  </tbody>\n",
       "</table>\n",
       "</div>"
      ],
      "text/plain": [
       "    Impression      Click  Purchase    Earning    Group  click_per_impression  \\\n",
       "0  82529.45927 6090.07732 665.21125 2311.27714  Control               0.07379   \n",
       "1  98050.45193 3382.86179 315.08489 1742.80686  Control               0.03450   \n",
       "2  82696.02355 4167.96575 458.08374 1797.82745  Control               0.05040   \n",
       "3 109914.40040 4910.88224 487.09077 1696.22918  Control               0.04468   \n",
       "4 108457.76263 5987.65581 441.03405 1543.72018  Control               0.05521   \n",
       "\n",
       "   purchases_per_impression  purchases_per_click  \n",
       "0                   0.00806              0.10923  \n",
       "1                   0.00321              0.09314  \n",
       "2                   0.00554              0.10991  \n",
       "3                   0.00443              0.09919  \n",
       "4                   0.00407              0.07366  "
      ]
     },
     "execution_count": 27,
     "metadata": {},
     "output_type": "execute_result"
    }
   ],
   "source": [
    "final_df[\"purchases_per_click\"] = final_df[\"Purchase\"] / final_df[\"Click\"]\n",
    "final_df.head()"
   ]
  },
  {
   "cell_type": "code",
   "execution_count": 28,
   "id": "684eb31b",
   "metadata": {
    "execution": {
     "iopub.execute_input": "2022-04-06T14:20:56.611322Z",
     "iopub.status.busy": "2022-04-06T14:20:56.610550Z",
     "iopub.status.idle": "2022-04-06T14:20:56.621915Z",
     "shell.execute_reply": "2022-04-06T14:20:56.622524Z",
     "shell.execute_reply.started": "2022-04-06T14:17:17.202711Z"
    },
    "papermill": {
     "duration": 0.085734,
     "end_time": "2022-04-06T14:20:56.622713",
     "exception": false,
     "start_time": "2022-04-06T14:20:56.536979",
     "status": "completed"
    },
    "tags": []
   },
   "outputs": [
    {
     "data": {
      "text/html": [
       "<div>\n",
       "<style scoped>\n",
       "    .dataframe tbody tr th:only-of-type {\n",
       "        vertical-align: middle;\n",
       "    }\n",
       "\n",
       "    .dataframe tbody tr th {\n",
       "        vertical-align: top;\n",
       "    }\n",
       "\n",
       "    .dataframe thead th {\n",
       "        text-align: right;\n",
       "    }\n",
       "</style>\n",
       "<table border=\"1\" class=\"dataframe\">\n",
       "  <thead>\n",
       "    <tr style=\"text-align: right;\">\n",
       "      <th></th>\n",
       "      <th>mean</th>\n",
       "      <th>min</th>\n",
       "      <th>max</th>\n",
       "      <th>sum</th>\n",
       "      <th>median</th>\n",
       "    </tr>\n",
       "    <tr>\n",
       "      <th>Group</th>\n",
       "      <th></th>\n",
       "      <th></th>\n",
       "      <th></th>\n",
       "      <th></th>\n",
       "      <th></th>\n",
       "    </tr>\n",
       "  </thead>\n",
       "  <tbody>\n",
       "    <tr>\n",
       "      <th>Control</th>\n",
       "      <td>0.11593</td>\n",
       "      <td>0.04040</td>\n",
       "      <td>0.30436</td>\n",
       "      <td>4.63702</td>\n",
       "      <td>0.10957</td>\n",
       "    </tr>\n",
       "    <tr>\n",
       "      <th>Test</th>\n",
       "      <td>0.15657</td>\n",
       "      <td>0.06365</td>\n",
       "      <td>0.44789</td>\n",
       "      <td>6.26265</td>\n",
       "      <td>0.14618</td>\n",
       "    </tr>\n",
       "  </tbody>\n",
       "</table>\n",
       "</div>"
      ],
      "text/plain": [
       "           mean     min     max     sum  median\n",
       "Group                                          \n",
       "Control 0.11593 0.04040 0.30436 4.63702 0.10957\n",
       "Test    0.15657 0.06365 0.44789 6.26265 0.14618"
      ]
     },
     "execution_count": 28,
     "metadata": {},
     "output_type": "execute_result"
    }
   ],
   "source": [
    "final_df.groupby(\"Group\")[\"purchases_per_click\"].agg([\"mean\",\"min\",\"max\",\"sum\",\"median\"])"
   ]
  },
  {
   "cell_type": "code",
   "execution_count": 29,
   "id": "3448edf4",
   "metadata": {
    "execution": {
     "iopub.execute_input": "2022-04-06T14:20:56.776244Z",
     "iopub.status.busy": "2022-04-06T14:20:56.775602Z",
     "iopub.status.idle": "2022-04-06T14:20:56.792163Z",
     "shell.execute_reply": "2022-04-06T14:20:56.792740Z",
     "shell.execute_reply.started": "2022-04-06T14:17:19.611110Z"
    },
    "papermill": {
     "duration": 0.095986,
     "end_time": "2022-04-06T14:20:56.792915",
     "exception": false,
     "start_time": "2022-04-06T14:20:56.696929",
     "status": "completed"
    },
    "tags": []
   },
   "outputs": [
    {
     "name": "stdout",
     "output_type": "stream",
     "text": [
      "# A/B Testing Hypothesis\n",
      "H0: A == B\n",
      "H1: A != B \n",
      "\n"
     ]
    },
    {
     "data": {
      "text/html": [
       "<div>\n",
       "<style scoped>\n",
       "    .dataframe tbody tr th:only-of-type {\n",
       "        vertical-align: middle;\n",
       "    }\n",
       "\n",
       "    .dataframe tbody tr th {\n",
       "        vertical-align: top;\n",
       "    }\n",
       "\n",
       "    .dataframe thead th {\n",
       "        text-align: right;\n",
       "    }\n",
       "</style>\n",
       "<table border=\"1\" class=\"dataframe\">\n",
       "  <thead>\n",
       "    <tr style=\"text-align: right;\">\n",
       "      <th></th>\n",
       "      <th>Test Type</th>\n",
       "      <th>AB Hypothesis</th>\n",
       "      <th>p-value</th>\n",
       "      <th>Comment</th>\n",
       "    </tr>\n",
       "  </thead>\n",
       "  <tbody>\n",
       "    <tr>\n",
       "      <th>0</th>\n",
       "      <td>Non-Parametric</td>\n",
       "      <td>Reject H0</td>\n",
       "      <td>0.00105</td>\n",
       "      <td>A/B groups are not similar!</td>\n",
       "    </tr>\n",
       "  </tbody>\n",
       "</table>\n",
       "</div>"
      ],
      "text/plain": [
       "        Test Type AB Hypothesis  p-value                      Comment\n",
       "0  Non-Parametric     Reject H0  0.00105  A/B groups are not similar!"
      ]
     },
     "execution_count": 29,
     "metadata": {},
     "output_type": "execute_result"
    }
   ],
   "source": [
    "AB_Test(dataframe=final_df, group=\"Group\", target=\"purchases_per_click\")"
   ]
  },
  {
   "cell_type": "markdown",
   "id": "f50abcae",
   "metadata": {
    "papermill": {
     "duration": 0.07198,
     "end_time": "2022-04-06T14:20:56.937366",
     "exception": false,
     "start_time": "2022-04-06T14:20:56.865386",
     "status": "completed"
    },
    "tags": []
   },
   "source": [
    "# Should the company switch to the new design?"
   ]
  },
  {
   "cell_type": "markdown",
   "id": "e172c472",
   "metadata": {
    "papermill": {
     "duration": 0.073149,
     "end_time": "2022-04-06T14:20:57.083406",
     "exception": false,
     "start_time": "2022-04-06T14:20:57.010257",
     "status": "completed"
    },
    "tags": []
   },
   "source": [
    " # > Results"
   ]
  },
  {
   "cell_type": "markdown",
   "id": "b18c5547",
   "metadata": {
    "papermill": {
     "duration": 0.071609,
     "end_time": "2022-04-06T14:20:57.226592",
     "exception": false,
     "start_time": "2022-04-06T14:20:57.154983",
     "status": "completed"
    },
    "tags": []
   },
   "source": [
    "* Purchases haven't changed with the new design.\n",
    "\n",
    "* The conversion rate hasn't changed with the new design. \n",
    "\n",
    "* A significant difference was observed between the two groups in terms of purchases per click, clicks per impression, purchases per impression, clicks, impressions, and earnings."
   ]
  },
  {
   "cell_type": "markdown",
   "id": "d07f9f6e",
   "metadata": {
    "papermill": {
     "duration": 0.072175,
     "end_time": "2022-04-06T14:20:57.370298",
     "exception": false,
     "start_time": "2022-04-06T14:20:57.298123",
     "status": "completed"
    },
    "tags": []
   },
   "source": [
    "\n",
    "> We need more data to decide to replace the new design."
   ]
  }
 ],
 "metadata": {
  "kernelspec": {
   "display_name": "Python 3",
   "language": "python",
   "name": "python3"
  },
  "language_info": {
   "codemirror_mode": {
    "name": "ipython",
    "version": 3
   },
   "file_extension": ".py",
   "mimetype": "text/x-python",
   "name": "python",
   "nbconvert_exporter": "python",
   "pygments_lexer": "ipython3",
   "version": "3.7.12"
  },
  "papermill": {
   "default_parameters": {},
   "duration": 32.932276,
   "end_time": "2022-04-06T14:20:58.253823",
   "environment_variables": {},
   "exception": null,
   "input_path": "__notebook__.ipynb",
   "output_path": "__notebook__.ipynb",
   "parameters": {},
   "start_time": "2022-04-06T14:20:25.321547",
   "version": "2.3.3"
  }
 },
 "nbformat": 4,
 "nbformat_minor": 5
}
