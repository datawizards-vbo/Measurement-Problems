{
 "cells": [
  {
   "attachments": {},
   "cell_type": "markdown",
   "metadata": {},
   "source": [
    "### This notebook is prepared to show 3 different bayesian averaging functions. "
   ]
  },
  {
   "cell_type": "code",
   "execution_count": 1,
   "metadata": {},
   "outputs": [],
   "source": [
    "import math\n",
    "import scipy.stats as stats\n",
    "\n",
    "# Define a list of ratings\n",
    "ratings = [3, 4, 5, 3, 4, 4, 3, 5, 2, 4]"
   ]
  },
  {
   "cell_type": "code",
   "execution_count": 2,
   "metadata": {},
   "outputs": [],
   "source": [
    "# Define the Bayesian average function using the z-score approach\n",
    "def bayesian_average_zscore(ratings):\n",
    "    num_ratings = len(ratings)\n",
    "    if num_ratings == 0:\n",
    "        return 0\n",
    "    else:\n",
    "        avg_rating = sum(ratings) / num_ratings\n",
    "        prior_avg_rating = 3.5 # Prior average rating\n",
    "        prior_num_ratings = 10 # Prior number of ratings\n",
    "        prior_var_rating = 1 # Prior variance of rating\n",
    "        # Observed variance of rating\n",
    "        obs_var_rating = sum([(rating - avg_rating) ** 2 for rating in ratings]) / num_ratings \n",
    "        # Calculate z-score\n",
    "        z = (obs_var_rating / num_ratings + prior_var_rating / prior_num_ratings) ** (-0.5) * (avg_rating - prior_avg_rating) \n",
    "        # Calculate Bayesian average\n",
    "        bayesian_avg_rating = (prior_num_ratings / (prior_num_ratings + num_ratings)) * prior_avg_rating + (num_ratings / (prior_num_ratings + num_ratings)) * (z * ((obs_var_rating / num_ratings + prior_var_rating / prior_num_ratings) ** 0.5) + avg_rating) \n",
    "        return bayesian_avg_rating"
   ]
  },
  {
   "cell_type": "code",
   "execution_count": 3,
   "metadata": {},
   "outputs": [
    {
     "data": {
      "text/plain": [
       "3.7"
      ]
     },
     "execution_count": 3,
     "metadata": {},
     "output_type": "execute_result"
    }
   ],
   "source": [
    "bayesian_average_zscore(ratings)"
   ]
  },
  {
   "attachments": {},
   "cell_type": "markdown",
   "metadata": {},
   "source": [
    "The `bayesian_average_zscore()` function uses the z-score approach, which assumes a normal distribution for the ratings and uses the sample mean and sample standard deviation to estimate the mean and standard deviation of the population. This approach does not require explicit prior assumptions, but it implicitly assumes that the ratings are normally distributed and that the sample size is large enough to approximate the population distribution."
   ]
  },
  {
   "cell_type": "code",
   "execution_count": 4,
   "metadata": {},
   "outputs": [],
   "source": [
    "# Define the Bayesian average function using the expected value approach\n",
    "def bayesian_average_expected_value(ratings):\n",
    "    num_ratings = len(ratings)\n",
    "    if num_ratings == 0:\n",
    "        return 0\n",
    "    else:\n",
    "        avg_rating = sum(ratings) / num_ratings\n",
    "        # Prior average rating\n",
    "        prior_avg_rating = 3.5 \n",
    "        # Prior number of ratings\n",
    "        prior_num_ratings = 10 \n",
    "        # Prior variance of rating\n",
    "        prior_var_rating = 1 \n",
    "        # Observed variance of rating\n",
    "        obs_var_rating = sum([(rating - avg_rating) ** 2 for rating in ratings]) / num_ratings \n",
    "        # Calculate posterior average rating\n",
    "        posterior_avg_rating = (prior_var_rating * avg_rating + obs_var_rating * prior_avg_rating) / (prior_var_rating + obs_var_rating) \n",
    "        # Calculate posterior variance of rating\n",
    "        posterior_var_rating = 1 / ((1 / prior_var_rating) + (num_ratings / obs_var_rating)) \n",
    "        # Calculate Bayesian average\n",
    "        bayesian_avg_rating = stats.norm.ppf(0.5, loc=posterior_avg_rating, scale=math.sqrt(posterior_var_rating)) \n",
    "        return bayesian_avg_rating"
   ]
  },
  {
   "cell_type": "code",
   "execution_count": 5,
   "metadata": {},
   "outputs": [
    {
     "data": {
      "text/plain": [
       "3.610497237569061"
      ]
     },
     "execution_count": 5,
     "metadata": {},
     "output_type": "execute_result"
    }
   ],
   "source": [
    "bayesian_average_expected_value(ratings)"
   ]
  },
  {
   "attachments": {},
   "cell_type": "markdown",
   "metadata": {},
   "source": [
    "The `bayesian_average_expected_value()` function uses the expected value approach, which assumes a Beta distribution for the ratings and uses the method of moments to estimate the parameters of the distribution. This approach assumes a uniform prior distribution for the ratings, which means that all possible ratings are equally likely before observing the data. This may not be appropriate in all cases, as there may be some prior information or assumptions about the ratings that can be incorporated into the analysis."
   ]
  },
  {
   "cell_type": "code",
   "execution_count": 6,
   "metadata": {},
   "outputs": [],
   "source": [
    "# Define the Bayesian average function using the normal distribution with prior assumptions approach\n",
    "def bayesian_average_prior_assumptions(ratings):\n",
    "    num_ratings = len(ratings)\n",
    "    if num_ratings == 0:\n",
    "        return 0\n",
    "    else:\n",
    "        avg_rating = sum(ratings) / num_ratings\n",
    "        # Prior mean rating\n",
    "        prior_mean = 3.5 \n",
    "        # Prior standard deviation of rating\n",
    "        prior_sd = 1 \n",
    "        # Calculate posterior mean\n",
    "        posterior_mean = ((prior_mean / (prior_sd ** 2)) + (avg_rating * num_ratings / (prior_sd ** 2))) / ((1 / (prior_sd ** 2)) + (num_ratings / (prior_sd ** 2))) \n",
    "        # Calculate posterior standard deviation\n",
    "        posterior_sd = math.sqrt(1 / ((1 / (prior_sd ** 2)) + (num_ratings / (prior_sd ** 2)))) \n",
    "        # Calculate Bayesian average\n",
    "        bayesian_avg_rating = stats.norm.ppf(0.5, loc=posterior_mean, scale=posterior_sd) \n",
    "        return bayesian_avg_rating"
   ]
  },
  {
   "cell_type": "code",
   "execution_count": 7,
   "metadata": {},
   "outputs": [
    {
     "data": {
      "text/plain": [
       "3.6818181818181817"
      ]
     },
     "execution_count": 7,
     "metadata": {},
     "output_type": "execute_result"
    }
   ],
   "source": [
    "bayesian_average_prior_assumptions(ratings)"
   ]
  },
  {
   "attachments": {},
   "cell_type": "markdown",
   "metadata": {},
   "source": [
    "The `bayesian_average_prior_assumptions()` function uses a normal distribution with prior assumptions approach, which explicitly specifies the prior assumptions about the mean and standard deviation of the ratings before observing the data. This approach allows for more flexibility in incorporating prior information or assumptions, but it requires more subjective judgment and expertise in specifying the prior assumptions."
   ]
  },
  {
   "cell_type": "markdown",
   "metadata": {},
   "source": []
  }
 ],
 "metadata": {
  "kernelspec": {
   "display_name": "base",
   "language": "python",
   "name": "python3"
  },
  "language_info": {
   "codemirror_mode": {
    "name": "ipython",
    "version": 3
   },
   "file_extension": ".py",
   "mimetype": "text/x-python",
   "name": "python",
   "nbconvert_exporter": "python",
   "pygments_lexer": "ipython3",
   "version": "3.9.13"
  },
  "orig_nbformat": 4
 },
 "nbformat": 4,
 "nbformat_minor": 2
}
